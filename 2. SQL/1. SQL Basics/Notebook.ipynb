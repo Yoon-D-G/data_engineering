{
 "cells": [
  {
   "cell_type": "markdown",
   "metadata": {},
   "source": [
    "# SQL - Basics"
   ]
  },
  {
   "cell_type": "markdown",
   "metadata": {},
   "source": [
    "Many of the lessons in this module are in Powerpoint or Keynote presentations. \n",
    "\n",
    "Click here to download the Powerpoint file [Link](https://aicore-files.s3.amazonaws.com/Data-Eng/SQL/1.+SQL+Basics.pptx)\n",
    "\n",
    "Or click here to download the Keynote file [Link](https://aicore-files.s3.amazonaws.com/Data-Eng/SQL/1.+SQL+Basics.key)"
   ]
  }
 ],
 "metadata": {
  "language_info": {
   "name": "python"
  },
  "orig_nbformat": 4
 },
 "nbformat": 4,
 "nbformat_minor": 2
}
