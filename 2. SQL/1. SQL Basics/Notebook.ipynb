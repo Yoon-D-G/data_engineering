{
 "cells": [
  {
   "cell_type": "markdown",
   "metadata": {},
   "source": [
    "# SQL - Basics"
   ]
  },
  {
   "cell_type": "markdown",
   "metadata": {},
   "source": [
    "Many of the lessons in this module are presented in slides. \n",
    "\n",
    "Click here to open the presentation [Link](https://www.icloud.com/keynote/0YWhmdTdrolzDyxlXMPK3AbRQ#1._SQL_Basics)"
   ]
  },
  {
   "cell_type": "markdown",
   "metadata": {},
   "source": []
  }
 ],
 "metadata": {
  "language_info": {
   "name": "python"
  },
  "orig_nbformat": 4
 },
 "nbformat": 4,
 "nbformat_minor": 2
}
