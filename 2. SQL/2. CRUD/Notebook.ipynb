{
 "cells": [
  {
   "cell_type": "markdown",
   "metadata": {},
   "source": [
    "# SQL - CRUD"
   ]
  },
  {
   "cell_type": "markdown",
   "metadata": {},
   "source": [
    "Many of the lessons in this module are in Powerpoint, Keynote, or PDF slides. \n",
    "\n",
    "Click here to download the Powerpoint file [Link](https://aicore-files.s3.amazonaws.com/Data-Eng/SQL/2.+SQL+CRUD.pptx)\n",
    "\n",
    "Click here to download the Keynote file [Link](https://aicore-files.s3.amazonaws.com/Data-Eng/SQL/2.+SQL+CRUD.key)\n",
    "\n",
    "\n",
    "Click here to download the PDF file [Link](https://aicore-files.s3.amazonaws.com/Data-Eng/SQL/2.+SQL+CRUD.pdf)"
   ]
  }
 ],
 "metadata": {
  "language_info": {
   "name": "python"
  },
  "orig_nbformat": 4
 },
 "nbformat": 4,
 "nbformat_minor": 2
}
