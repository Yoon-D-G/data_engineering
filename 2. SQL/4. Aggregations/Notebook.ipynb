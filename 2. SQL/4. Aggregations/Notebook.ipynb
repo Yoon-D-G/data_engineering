{
 "cells": [
  {
   "cell_type": "markdown",
   "metadata": {},
   "source": [
    "# SQL - Aggregations"
   ]
  },
  {
   "cell_type": "markdown",
   "metadata": {},
   "source": [
    "Many of the lessons in this module are presented in slides. \n",
    "\n",
    "Click here to open the presentation [Link](https://www.icloud.com/keynote/0gfF_uxLFjD2A_TuX-M-wD_Pw#4._SQL_Data_Analysis_-_Aggregations,_Function,_Flow_Control)"
   ]
  },
  {
   "cell_type": "markdown",
   "metadata": {},
   "source": []
  }
 ],
 "metadata": {
  "language_info": {
   "name": "python"
  },
  "orig_nbformat": 4
 },
 "nbformat": 4,
 "nbformat_minor": 2
}
