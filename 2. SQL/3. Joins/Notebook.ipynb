{
 "cells": [
  {
   "cell_type": "markdown",
   "metadata": {},
   "source": [
    "# SQL - Joins"
   ]
  },
  {
   "cell_type": "markdown",
   "metadata": {},
   "source": [
    "Many of the lessons in this module are in Powerpoint, Keynote, or PDF slides. \n",
    "\n",
    "Click here to download the Powerpoint file [Link](https://aicore-files.s3.amazonaws.com/Data-Eng/SQL/3.+SQL+Joins.pptx)\n",
    "\n",
    "Click here to download the Keynote file [Link](https://aicore-files.s3.amazonaws.com/Data-Eng/SQL/3.+SQL+Joins.key)\n",
    "\n",
    "Click here to download the PDF file [Link](https://aicore-files.s3.amazonaws.com/Data-Eng/SQL/3.+SQL+Joins.pdf)"
   ]
  }
 ],
 "metadata": {
  "language_info": {
   "name": "python"
  },
  "orig_nbformat": 4
 },
 "nbformat": 4,
 "nbformat_minor": 2
}
