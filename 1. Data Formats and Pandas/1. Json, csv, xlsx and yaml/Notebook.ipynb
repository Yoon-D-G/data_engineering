{
 "cells": [
  {
   "cell_type": "markdown",
   "source": [
    "# 0. Data Formats"
   ],
   "metadata": {}
  },
  {
   "cell_type": "markdown",
   "source": [
    "## Learning objectives\r\n",
    "- Understand the basic file formats/uses of CSV, XLSX, JSON, and YAML.\r\n",
    "- Know how to import them into pandas"
   ],
   "metadata": {}
  },
  {
   "cell_type": "markdown",
   "source": [
    "# CSV\r\n",
    "> ## CSV __(comma-separated values)__ files are a very common way to store data. \r\n",
    "- Their most common literal representation is a bunch of values, separated by commas, as the name would indicate.\r\n",
    "- All of the data for a single observation is on one line: each new line is a new observation.\r\n",
    "- The comma in this case is called the __'delimiter'__ as it shows the difference (or limit) between one value and the next.\r\n",
    "- Other common delimiters are semi-colons and tabs (also called __tsv/tab-separated values__).\r\n",
    "- We must be careful to check what exactly the delimiter is, as a common error is reading in a file with the wrong delimiter, and so getting a weird representation in your data.\r\n",
    "- CSVs can also be read by Excel.\r\n",
    "<p style=\"font-size:10.5px\">\r\n",
    "Usually if you are using data from mainland European countries (France/Spain etc) they will use semi-colons, hence some people prefer <i>character</i>-separated values for CSV.\r\n",
    "</p>"
   ],
   "metadata": {}
  },
  {
   "cell_type": "code",
   "execution_count": null,
   "source": [
    "import csv\r\n",
    "with open('Salaries.csv', newline='') as csvfile:\r\n",
    "    reader = csv.reader(csvfile, delimiter=',')\r\n",
    "    for row in reader:\r\n",
    "        print(','.join(row))"
   ],
   "outputs": [],
   "metadata": {}
  },
  {
   "cell_type": "markdown",
   "source": [
    "# JSON\r\n",
    "> ## JSON (JavaScript Object Notation) is a file format that stores data in a way that is easily readable by both humans and machines.\r\n",
    "- It is as useful way for a browser and a server to exchange data, so it is used extensively in Web-based applications of coding.\r\n",
    "- In fact, Jupyter Notebook .ipynb files are actually stored in JSON format.\r\n"
   ],
   "metadata": {}
  },
  {
   "cell_type": "code",
   "execution_count": null,
   "source": [
    "import json\r\n",
    "with open('JSON_sample.json', mode='r') as f:\r\n",
    "    json_dict = json.load(f)\r\n",
    "\r\n",
    "print(json_dict)\r\n",
    "\r\n",
    "with open('JSON_sample_new.json', mode='r') as f:\r\n",
    "    json_dict_new = json.load(f)\r\n",
    "\r\n",
    "print(json_dict_new)"
   ],
   "outputs": [],
   "metadata": {}
  },
  {
   "cell_type": "markdown",
   "source": [
    "We can save create json files from dictionaries"
   ],
   "metadata": {}
  },
  {
   "cell_type": "code",
   "execution_count": 11,
   "source": [
    "test_dict = {'a': 1, 'b': 2, 'c': 3, 'd': 4}\r\n",
    "with open('JSON_test.json', mode='w') as f:\r\n",
    "    json.dump(test_dict, f)"
   ],
   "outputs": [],
   "metadata": {}
  },
  {
   "cell_type": "markdown",
   "source": [
    "We can also have a string containing a json and parse it"
   ],
   "metadata": {}
  },
  {
   "cell_type": "code",
   "execution_count": 9,
   "source": [
    "x =  '{\"name\": \"John\", \"age\": 30, \"city\": \"New York\"}'"
   ],
   "outputs": [],
   "metadata": {}
  },
  {
   "cell_type": "code",
   "execution_count": 12,
   "source": [
    "y = json.loads(x)\r\n",
    "print(y)\r\n",
    "print(type(y))"
   ],
   "outputs": [
    {
     "output_type": "stream",
     "name": "stdout",
     "text": [
      "{'name': 'John', 'age': 30, 'city': 'New York'}\n",
      "<class 'dict'>\n"
     ]
    }
   ],
   "metadata": {}
  },
  {
   "cell_type": "markdown",
   "source": [
    "Be careful with the double quotes!"
   ],
   "metadata": {}
  },
  {
   "cell_type": "code",
   "execution_count": 13,
   "source": [
    "x =  \"{'name': 'John', 'age': 30, 'city': 'New York'}\""
   ],
   "outputs": [],
   "metadata": {}
  },
  {
   "cell_type": "code",
   "execution_count": 14,
   "source": [
    "y = json.loads(x)"
   ],
   "outputs": [
    {
     "output_type": "error",
     "ename": "JSONDecodeError",
     "evalue": "Expecting property name enclosed in double quotes: line 1 column 2 (char 1)",
     "traceback": [
      "\u001b[0;31m---------------------------------------------------------------------------\u001b[0m",
      "\u001b[0;31mJSONDecodeError\u001b[0m                           Traceback (most recent call last)",
      "\u001b[0;32m<ipython-input-14-fcc025586e4e>\u001b[0m in \u001b[0;36m<module>\u001b[0;34m\u001b[0m\n\u001b[0;32m----> 1\u001b[0;31m \u001b[0my\u001b[0m \u001b[0;34m=\u001b[0m \u001b[0mjson\u001b[0m\u001b[0;34m.\u001b[0m\u001b[0mloads\u001b[0m\u001b[0;34m(\u001b[0m\u001b[0mx\u001b[0m\u001b[0;34m)\u001b[0m\u001b[0;34m\u001b[0m\u001b[0;34m\u001b[0m\u001b[0m\n\u001b[0m",
      "\u001b[0;32m/opt/miniconda3/lib/python3.9/json/__init__.py\u001b[0m in \u001b[0;36mloads\u001b[0;34m(s, cls, object_hook, parse_float, parse_int, parse_constant, object_pairs_hook, **kw)\u001b[0m\n\u001b[1;32m    344\u001b[0m             \u001b[0mparse_int\u001b[0m \u001b[0;32mis\u001b[0m \u001b[0;32mNone\u001b[0m \u001b[0;32mand\u001b[0m \u001b[0mparse_float\u001b[0m \u001b[0;32mis\u001b[0m \u001b[0;32mNone\u001b[0m \u001b[0;32mand\u001b[0m\u001b[0;34m\u001b[0m\u001b[0;34m\u001b[0m\u001b[0m\n\u001b[1;32m    345\u001b[0m             parse_constant is None and object_pairs_hook is None and not kw):\n\u001b[0;32m--> 346\u001b[0;31m         \u001b[0;32mreturn\u001b[0m \u001b[0m_default_decoder\u001b[0m\u001b[0;34m.\u001b[0m\u001b[0mdecode\u001b[0m\u001b[0;34m(\u001b[0m\u001b[0ms\u001b[0m\u001b[0;34m)\u001b[0m\u001b[0;34m\u001b[0m\u001b[0;34m\u001b[0m\u001b[0m\n\u001b[0m\u001b[1;32m    347\u001b[0m     \u001b[0;32mif\u001b[0m \u001b[0mcls\u001b[0m \u001b[0;32mis\u001b[0m \u001b[0;32mNone\u001b[0m\u001b[0;34m:\u001b[0m\u001b[0;34m\u001b[0m\u001b[0;34m\u001b[0m\u001b[0m\n\u001b[1;32m    348\u001b[0m         \u001b[0mcls\u001b[0m \u001b[0;34m=\u001b[0m \u001b[0mJSONDecoder\u001b[0m\u001b[0;34m\u001b[0m\u001b[0;34m\u001b[0m\u001b[0m\n",
      "\u001b[0;32m/opt/miniconda3/lib/python3.9/json/decoder.py\u001b[0m in \u001b[0;36mdecode\u001b[0;34m(self, s, _w)\u001b[0m\n\u001b[1;32m    335\u001b[0m \u001b[0;34m\u001b[0m\u001b[0m\n\u001b[1;32m    336\u001b[0m         \"\"\"\n\u001b[0;32m--> 337\u001b[0;31m         \u001b[0mobj\u001b[0m\u001b[0;34m,\u001b[0m \u001b[0mend\u001b[0m \u001b[0;34m=\u001b[0m \u001b[0mself\u001b[0m\u001b[0;34m.\u001b[0m\u001b[0mraw_decode\u001b[0m\u001b[0;34m(\u001b[0m\u001b[0ms\u001b[0m\u001b[0;34m,\u001b[0m \u001b[0midx\u001b[0m\u001b[0;34m=\u001b[0m\u001b[0m_w\u001b[0m\u001b[0;34m(\u001b[0m\u001b[0ms\u001b[0m\u001b[0;34m,\u001b[0m \u001b[0;36m0\u001b[0m\u001b[0;34m)\u001b[0m\u001b[0;34m.\u001b[0m\u001b[0mend\u001b[0m\u001b[0;34m(\u001b[0m\u001b[0;34m)\u001b[0m\u001b[0;34m)\u001b[0m\u001b[0;34m\u001b[0m\u001b[0;34m\u001b[0m\u001b[0m\n\u001b[0m\u001b[1;32m    338\u001b[0m         \u001b[0mend\u001b[0m \u001b[0;34m=\u001b[0m \u001b[0m_w\u001b[0m\u001b[0;34m(\u001b[0m\u001b[0ms\u001b[0m\u001b[0;34m,\u001b[0m \u001b[0mend\u001b[0m\u001b[0;34m)\u001b[0m\u001b[0;34m.\u001b[0m\u001b[0mend\u001b[0m\u001b[0;34m(\u001b[0m\u001b[0;34m)\u001b[0m\u001b[0;34m\u001b[0m\u001b[0;34m\u001b[0m\u001b[0m\n\u001b[1;32m    339\u001b[0m         \u001b[0;32mif\u001b[0m \u001b[0mend\u001b[0m \u001b[0;34m!=\u001b[0m \u001b[0mlen\u001b[0m\u001b[0;34m(\u001b[0m\u001b[0ms\u001b[0m\u001b[0;34m)\u001b[0m\u001b[0;34m:\u001b[0m\u001b[0;34m\u001b[0m\u001b[0;34m\u001b[0m\u001b[0m\n",
      "\u001b[0;32m/opt/miniconda3/lib/python3.9/json/decoder.py\u001b[0m in \u001b[0;36mraw_decode\u001b[0;34m(self, s, idx)\u001b[0m\n\u001b[1;32m    351\u001b[0m         \"\"\"\n\u001b[1;32m    352\u001b[0m         \u001b[0;32mtry\u001b[0m\u001b[0;34m:\u001b[0m\u001b[0;34m\u001b[0m\u001b[0;34m\u001b[0m\u001b[0m\n\u001b[0;32m--> 353\u001b[0;31m             \u001b[0mobj\u001b[0m\u001b[0;34m,\u001b[0m \u001b[0mend\u001b[0m \u001b[0;34m=\u001b[0m \u001b[0mself\u001b[0m\u001b[0;34m.\u001b[0m\u001b[0mscan_once\u001b[0m\u001b[0;34m(\u001b[0m\u001b[0ms\u001b[0m\u001b[0;34m,\u001b[0m \u001b[0midx\u001b[0m\u001b[0;34m)\u001b[0m\u001b[0;34m\u001b[0m\u001b[0;34m\u001b[0m\u001b[0m\n\u001b[0m\u001b[1;32m    354\u001b[0m         \u001b[0;32mexcept\u001b[0m \u001b[0mStopIteration\u001b[0m \u001b[0;32mas\u001b[0m \u001b[0merr\u001b[0m\u001b[0;34m:\u001b[0m\u001b[0;34m\u001b[0m\u001b[0;34m\u001b[0m\u001b[0m\n\u001b[1;32m    355\u001b[0m             \u001b[0;32mraise\u001b[0m \u001b[0mJSONDecodeError\u001b[0m\u001b[0;34m(\u001b[0m\u001b[0;34m\"Expecting value\"\u001b[0m\u001b[0;34m,\u001b[0m \u001b[0ms\u001b[0m\u001b[0;34m,\u001b[0m \u001b[0merr\u001b[0m\u001b[0;34m.\u001b[0m\u001b[0mvalue\u001b[0m\u001b[0;34m)\u001b[0m \u001b[0;32mfrom\u001b[0m \u001b[0;32mNone\u001b[0m\u001b[0;34m\u001b[0m\u001b[0;34m\u001b[0m\u001b[0m\n",
      "\u001b[0;31mJSONDecodeError\u001b[0m: Expecting property name enclosed in double quotes: line 1 column 2 (char 1)"
     ]
    }
   ],
   "metadata": {}
  },
  {
   "cell_type": "markdown",
   "source": [
    "We do the opposite using the dumps method"
   ],
   "metadata": {}
  },
  {
   "cell_type": "code",
   "execution_count": 15,
   "source": [
    "\r\n",
    "test_dict = {'a': 3, 'b': 4}\r\n",
    "new_json = json.dumps(test_dict)"
   ],
   "outputs": [],
   "metadata": {}
  },
  {
   "cell_type": "code",
   "execution_count": 16,
   "source": [
    "new_json"
   ],
   "outputs": [
    {
     "output_type": "execute_result",
     "data": {
      "text/plain": [
       "'{\"a\": 3, \"b\": 4}'"
      ]
     },
     "metadata": {},
     "execution_count": 16
    }
   ],
   "metadata": {}
  },
  {
   "cell_type": "markdown",
   "source": [
    "# XLSX"
   ],
   "metadata": {}
  },
  {
   "cell_type": "markdown",
   "source": [
    "There are many libraries that allow us to read xlsx files. One of the most famous is openpyxl"
   ],
   "metadata": {}
  },
  {
   "cell_type": "code",
   "execution_count": 17,
   "source": [
    "import openpyxl\r\n",
    "wb_obj = openpyxl.load_workbook('demo.xlsx')\r\n",
    "sheet = wb_obj.active\r\n"
   ],
   "outputs": [],
   "metadata": {}
  },
  {
   "cell_type": "code",
   "execution_count": 20,
   "source": [
    "sheet['B2'].value"
   ],
   "outputs": [],
   "metadata": {}
  },
  {
   "cell_type": "code",
   "execution_count": 21,
   "source": [
    "print(sheet.max_row)\r\n",
    "print(sheet.max_column)\r\n"
   ],
   "outputs": [
    {
     "output_type": "stream",
     "name": "stdout",
     "text": [
      "4\n",
      "2\n"
     ]
    }
   ],
   "metadata": {}
  },
  {
   "cell_type": "markdown",
   "source": [
    "We can also create an xlsx file from Python"
   ],
   "metadata": {}
  },
  {
   "cell_type": "code",
   "execution_count": 24,
   "source": [
    "import xlsxwriter\r\n",
    "\r\n",
    "# Create an new Excel file and add a worksheet.\r\n",
    "workbook = xlsxwriter.Workbook('test.xlsx')\r\n",
    "worksheet = workbook.add_worksheet()\r\n",
    "\r\n",
    "# Write some simple text.\r\n",
    "worksheet.write('A1', 'I am in the first cell!')\r\n",
    "\r\n",
    "# Text with formatting.\r\n",
    "worksheet.write('A2', 'Second position is not that bad')\r\n",
    "\r\n",
    "# Write some numbers, with row/column notation.\r\n",
    "worksheet.write(2, 0, 123)\r\n",
    "worksheet.write(3, 0, 123.456)\r\n",
    "worksheet.write(0, 1, 789)\r\n",
    "\r\n",
    "workbook.close()"
   ],
   "outputs": [],
   "metadata": {}
  },
  {
   "cell_type": "markdown",
   "source": [
    "# YAML"
   ],
   "metadata": {}
  },
  {
   "cell_type": "markdown",
   "source": [
    "YAML is a data serialization language, which means that it is a common language across different applications. In fact, you already saw a serialization language in this lesson: JSON.\r\n",
    "\r\n",
    "> ## YAML (YAML Ain't Markup Language) is a data serialization language"
   ],
   "metadata": {}
  },
  {
   "cell_type": "markdown",
   "source": [
    "The main advantage of YAML is that is highly human-readable. You can see a comparison between JSON and YAML containing the same information.\r\n",
    "### YAML:\r\n",
    "```\r\n",
    "simple-property: a simple value\r\n",
    "\r\n",
    "object-property:\r\n",
    "    first-property: first value\r\n",
    "    second-property: second value\r\n",
    "\r\n",
    "array-property:\r\n",
    "    - item-1-property-1: one\r\n",
    "      item-1-property-2: 2\r\n",
    "    - item-2-property-1: three\r\n",
    "      item-2-property-2: 4\r\n",
    "```\r\n",
    "\r\n",
    "### JSON\r\n",
    "```\r\n",
    "{\r\n",
    "  \"simple-property\": \"a simple value\",\r\n",
    "\r\n",
    "  \"object-property\": {\r\n",
    "      \"first-property\": \"first value\",\r\n",
    "      \"second-property\": \"second value\",\r\n",
    "  },\r\n",
    "\r\n",
    "  \"array-property\": [\r\n",
    "      { \"item-1-property-1\": \"one\",\r\n",
    "        \"item-1-property-2\": 2 },\r\n",
    "      { \"item-2-property-1\": \"three\",\r\n",
    "        \"item-2-property-2\": 4}\r\n",
    "  ]\r\n",
    "}\r\n",
    "```\r\n"
   ],
   "metadata": {}
  },
  {
   "cell_type": "markdown",
   "source": [
    "Observe that the base of YAML files lies in the indentation and the linespaces.\r\n",
    "\r\n",
    "The most basic syntax in a YAML file is the __key:value__ pair\r\n",
    "```\r\n",
    "key: value\r\n",
    "```\r\n",
    "For example:\r\n",
    "```\r\n",
    "# This is a comment\r\n",
    "name: Ivan\r\n",
    "surname: 'Ying'\r\n",
    "role: \"Instructor\"\r\n",
    "IQ: 0\r\n",
    "```\r\n",
    "Notice that strings can be either into double quotes, single quotes or nothing, and they will work the same.\r\n",
    "\r\n",
    "Another useful way of using YAML files is leveraging __objects__ simply by indenting the key:value pairs:\r\n",
    "```\r\n",
    "# This is a comment\r\n",
    "Person:\r\n",
    "    name: Ivan\r\n",
    "    surname: 'Ying'\r\n",
    "    role: \"Instructor\"\r\n",
    "    IQ: 0\r\n",
    "```\r\n",
    "Same as with Python, indentation should be at the right level, and it would be a good idea to have a linter for checking it. "
   ],
   "metadata": {}
  },
  {
   "cell_type": "markdown",
   "source": [
    "You can look for `docs-yaml` in your Extensions tab on VSCode to install a linter to tell you whether your YAML file is well indented or not. Or you can also visit [this link](https://codebeautify.org/yaml-validator)"
   ],
   "metadata": {}
  },
  {
   "cell_type": "markdown",
   "source": [
    "One more thing you can use in YAML files are lists. List can contain single values, or it can also contain key:value pair values\r\n",
    "```\r\n",
    "Person:\r\n",
    "    - name: Ivan\r\n",
    "      surname: 'Ying'\r\n",
    "      role: \"Instructor\"\r\n",
    "      IQ: 0\r\n",
    "    - name: Not Ivan\r\n",
    "      surname: 'Gniy'\r\n",
    "      role: \"Doppelganger\"\r\n",
    "      IQ: 150\r\n",
    "Animals:\r\n",
    "    - Cat\r\n",
    "    - Dog\r\n",
    "    - Shoebill\r\n",
    "    - Kakapo\r\n",
    "```\r\n",
    "The last list can also be written as:\r\n",
    "```\r\n",
    "Animals: [Cat, Dog, Shoebill, Kakapo]\r\n",
    "```"
   ],
   "metadata": {}
  },
  {
   "cell_type": "markdown",
   "source": [
    "# Pandas"
   ],
   "metadata": {}
  },
  {
   "cell_type": "markdown",
   "source": [
    "Pandas allows us to read these data formats in an easy way, so we don't have to think about the libraries or modules that we need to import\n",
    "\n",
    "The syntax is as follows:"
   ],
   "metadata": {}
  },
  {
   "cell_type": "code",
   "execution_count": null,
   "source": [
    "import pandas as pd\r\n",
    "\r\n",
    "df = pd.read_{format}('FILE_DIR')\r\n",
    "\r\n",
    "df.to_{format}('FILE_DIR')"
   ],
   "outputs": [],
   "metadata": {}
  },
  {
   "cell_type": "markdown",
   "source": [
    "## Pandas and CSV\n",
    "The syntax for reading in a CSV to pandas is thus:"
   ],
   "metadata": {}
  },
  {
   "cell_type": "code",
   "execution_count": null,
   "source": [
    "# we save the read_csv to a variable\r\n",
    "df = pd.read_csv('<filename>')\r\n",
    "\r\n",
    "# the to_csv method is a method off a data frame\r\n",
    "df.to_csv('<filename>')"
   ],
   "outputs": [],
   "metadata": {}
  },
  {
   "cell_type": "markdown",
   "source": [
    "Example:"
   ],
   "metadata": {}
  },
  {
   "cell_type": "code",
   "execution_count": 6,
   "source": [
    "# import pandas\r\n",
    "import pandas as pd\r\n",
    "\r\n",
    "# read in the csv file\r\n",
    "df = pd.read_csv('Salaries.csv', index_col='Id')\r\n",
    "\r\n",
    "# show as DataFrame\r\n",
    "df"
   ],
   "outputs": [
    {
     "output_type": "execute_result",
     "data": {
      "text/plain": [
       "                 EmployeeName                                        JobTitle  \\\n",
       "Id                                                                              \n",
       "1              NATHANIEL FORD  GENERAL MANAGER-METROPOLITAN TRANSIT AUTHORITY   \n",
       "2                GARY JIMENEZ                 CAPTAIN III (POLICE DEPARTMENT)   \n",
       "3              ALBERT PARDINI                 CAPTAIN III (POLICE DEPARTMENT)   \n",
       "4           CHRISTOPHER CHONG            WIRE ROPE CABLE MAINTENANCE MECHANIC   \n",
       "5             PATRICK GARDNER    DEPUTY CHIEF OF DEPARTMENT,(FIRE DEPARTMENT)   \n",
       "..                        ...                                             ...   \n",
       "672              CHERYL ADAMS               HEAD ATTORNEY, CIVIL AND CRIMINAL   \n",
       "673            LOUISE SIMPSON               HEAD ATTORNEY, CIVIL AND CRIMINAL   \n",
       "674               BLAKE LOEBS               HEAD ATTORNEY, CIVIL AND CRIMINAL   \n",
       "675  ELIZABETH AGUILAR-TARCHI               HEAD ATTORNEY, CIVIL AND CRIMINAL   \n",
       "676                 JULIAN NG                SERGEANT III (POLICE DEPARTMENT)   \n",
       "\n",
       "       BasePay  OvertimePay   OtherPay  Benefits   TotalPay  TotalPayBenefits  \\\n",
       "Id                                                                              \n",
       "1    167411.18         0.00  400184.25       NaN  567595.43         567595.43   \n",
       "2    155966.02    245131.88  137811.38       NaN  538909.28         538909.28   \n",
       "3    212739.13    106088.18   16452.60       NaN  335279.91         335279.91   \n",
       "4     77916.00     56120.71  198306.90       NaN  332343.61         332343.61   \n",
       "5    134401.60      9737.00  182234.59       NaN  326373.19         326373.19   \n",
       "..         ...          ...        ...       ...        ...               ...   \n",
       "672  176856.18         0.00    3537.89       NaN  180394.07         180394.07   \n",
       "673  176856.18         0.00    3537.80       NaN  180393.98         180393.98   \n",
       "674  176856.19         0.00    3537.75       NaN  180393.94         180393.94   \n",
       "675  176856.17         0.00    3537.11       NaN  180393.28         180393.28   \n",
       "676  130457.76     43793.11    6061.80       NaN  180312.67         180312.67   \n",
       "\n",
       "     Year  Notes         Agency  Status  \n",
       "Id                                       \n",
       "1    2011    NaN  San Francisco     NaN  \n",
       "2    2011    NaN  San Francisco     NaN  \n",
       "3    2011    NaN  San Francisco     NaN  \n",
       "4    2011    NaN  San Francisco     NaN  \n",
       "5    2011    NaN  San Francisco     NaN  \n",
       "..    ...    ...            ...     ...  \n",
       "672  2011    NaN  San Francisco     NaN  \n",
       "673  2011    NaN  San Francisco     NaN  \n",
       "674  2011    NaN  San Francisco     NaN  \n",
       "675  2011    NaN  San Francisco     NaN  \n",
       "676  2011    NaN  San Francisco     NaN  \n",
       "\n",
       "[676 rows x 12 columns]"
      ],
      "text/html": [
       "<div>\n",
       "<style scoped>\n",
       "    .dataframe tbody tr th:only-of-type {\n",
       "        vertical-align: middle;\n",
       "    }\n",
       "\n",
       "    .dataframe tbody tr th {\n",
       "        vertical-align: top;\n",
       "    }\n",
       "\n",
       "    .dataframe thead th {\n",
       "        text-align: right;\n",
       "    }\n",
       "</style>\n",
       "<table border=\"1\" class=\"dataframe\">\n",
       "  <thead>\n",
       "    <tr style=\"text-align: right;\">\n",
       "      <th></th>\n",
       "      <th>EmployeeName</th>\n",
       "      <th>JobTitle</th>\n",
       "      <th>BasePay</th>\n",
       "      <th>OvertimePay</th>\n",
       "      <th>OtherPay</th>\n",
       "      <th>Benefits</th>\n",
       "      <th>TotalPay</th>\n",
       "      <th>TotalPayBenefits</th>\n",
       "      <th>Year</th>\n",
       "      <th>Notes</th>\n",
       "      <th>Agency</th>\n",
       "      <th>Status</th>\n",
       "    </tr>\n",
       "    <tr>\n",
       "      <th>Id</th>\n",
       "      <th></th>\n",
       "      <th></th>\n",
       "      <th></th>\n",
       "      <th></th>\n",
       "      <th></th>\n",
       "      <th></th>\n",
       "      <th></th>\n",
       "      <th></th>\n",
       "      <th></th>\n",
       "      <th></th>\n",
       "      <th></th>\n",
       "      <th></th>\n",
       "    </tr>\n",
       "  </thead>\n",
       "  <tbody>\n",
       "    <tr>\n",
       "      <th>1</th>\n",
       "      <td>NATHANIEL FORD</td>\n",
       "      <td>GENERAL MANAGER-METROPOLITAN TRANSIT AUTHORITY</td>\n",
       "      <td>167411.18</td>\n",
       "      <td>0.00</td>\n",
       "      <td>400184.25</td>\n",
       "      <td>NaN</td>\n",
       "      <td>567595.43</td>\n",
       "      <td>567595.43</td>\n",
       "      <td>2011</td>\n",
       "      <td>NaN</td>\n",
       "      <td>San Francisco</td>\n",
       "      <td>NaN</td>\n",
       "    </tr>\n",
       "    <tr>\n",
       "      <th>2</th>\n",
       "      <td>GARY JIMENEZ</td>\n",
       "      <td>CAPTAIN III (POLICE DEPARTMENT)</td>\n",
       "      <td>155966.02</td>\n",
       "      <td>245131.88</td>\n",
       "      <td>137811.38</td>\n",
       "      <td>NaN</td>\n",
       "      <td>538909.28</td>\n",
       "      <td>538909.28</td>\n",
       "      <td>2011</td>\n",
       "      <td>NaN</td>\n",
       "      <td>San Francisco</td>\n",
       "      <td>NaN</td>\n",
       "    </tr>\n",
       "    <tr>\n",
       "      <th>3</th>\n",
       "      <td>ALBERT PARDINI</td>\n",
       "      <td>CAPTAIN III (POLICE DEPARTMENT)</td>\n",
       "      <td>212739.13</td>\n",
       "      <td>106088.18</td>\n",
       "      <td>16452.60</td>\n",
       "      <td>NaN</td>\n",
       "      <td>335279.91</td>\n",
       "      <td>335279.91</td>\n",
       "      <td>2011</td>\n",
       "      <td>NaN</td>\n",
       "      <td>San Francisco</td>\n",
       "      <td>NaN</td>\n",
       "    </tr>\n",
       "    <tr>\n",
       "      <th>4</th>\n",
       "      <td>CHRISTOPHER CHONG</td>\n",
       "      <td>WIRE ROPE CABLE MAINTENANCE MECHANIC</td>\n",
       "      <td>77916.00</td>\n",
       "      <td>56120.71</td>\n",
       "      <td>198306.90</td>\n",
       "      <td>NaN</td>\n",
       "      <td>332343.61</td>\n",
       "      <td>332343.61</td>\n",
       "      <td>2011</td>\n",
       "      <td>NaN</td>\n",
       "      <td>San Francisco</td>\n",
       "      <td>NaN</td>\n",
       "    </tr>\n",
       "    <tr>\n",
       "      <th>5</th>\n",
       "      <td>PATRICK GARDNER</td>\n",
       "      <td>DEPUTY CHIEF OF DEPARTMENT,(FIRE DEPARTMENT)</td>\n",
       "      <td>134401.60</td>\n",
       "      <td>9737.00</td>\n",
       "      <td>182234.59</td>\n",
       "      <td>NaN</td>\n",
       "      <td>326373.19</td>\n",
       "      <td>326373.19</td>\n",
       "      <td>2011</td>\n",
       "      <td>NaN</td>\n",
       "      <td>San Francisco</td>\n",
       "      <td>NaN</td>\n",
       "    </tr>\n",
       "    <tr>\n",
       "      <th>...</th>\n",
       "      <td>...</td>\n",
       "      <td>...</td>\n",
       "      <td>...</td>\n",
       "      <td>...</td>\n",
       "      <td>...</td>\n",
       "      <td>...</td>\n",
       "      <td>...</td>\n",
       "      <td>...</td>\n",
       "      <td>...</td>\n",
       "      <td>...</td>\n",
       "      <td>...</td>\n",
       "      <td>...</td>\n",
       "    </tr>\n",
       "    <tr>\n",
       "      <th>672</th>\n",
       "      <td>CHERYL ADAMS</td>\n",
       "      <td>HEAD ATTORNEY, CIVIL AND CRIMINAL</td>\n",
       "      <td>176856.18</td>\n",
       "      <td>0.00</td>\n",
       "      <td>3537.89</td>\n",
       "      <td>NaN</td>\n",
       "      <td>180394.07</td>\n",
       "      <td>180394.07</td>\n",
       "      <td>2011</td>\n",
       "      <td>NaN</td>\n",
       "      <td>San Francisco</td>\n",
       "      <td>NaN</td>\n",
       "    </tr>\n",
       "    <tr>\n",
       "      <th>673</th>\n",
       "      <td>LOUISE SIMPSON</td>\n",
       "      <td>HEAD ATTORNEY, CIVIL AND CRIMINAL</td>\n",
       "      <td>176856.18</td>\n",
       "      <td>0.00</td>\n",
       "      <td>3537.80</td>\n",
       "      <td>NaN</td>\n",
       "      <td>180393.98</td>\n",
       "      <td>180393.98</td>\n",
       "      <td>2011</td>\n",
       "      <td>NaN</td>\n",
       "      <td>San Francisco</td>\n",
       "      <td>NaN</td>\n",
       "    </tr>\n",
       "    <tr>\n",
       "      <th>674</th>\n",
       "      <td>BLAKE LOEBS</td>\n",
       "      <td>HEAD ATTORNEY, CIVIL AND CRIMINAL</td>\n",
       "      <td>176856.19</td>\n",
       "      <td>0.00</td>\n",
       "      <td>3537.75</td>\n",
       "      <td>NaN</td>\n",
       "      <td>180393.94</td>\n",
       "      <td>180393.94</td>\n",
       "      <td>2011</td>\n",
       "      <td>NaN</td>\n",
       "      <td>San Francisco</td>\n",
       "      <td>NaN</td>\n",
       "    </tr>\n",
       "    <tr>\n",
       "      <th>675</th>\n",
       "      <td>ELIZABETH AGUILAR-TARCHI</td>\n",
       "      <td>HEAD ATTORNEY, CIVIL AND CRIMINAL</td>\n",
       "      <td>176856.17</td>\n",
       "      <td>0.00</td>\n",
       "      <td>3537.11</td>\n",
       "      <td>NaN</td>\n",
       "      <td>180393.28</td>\n",
       "      <td>180393.28</td>\n",
       "      <td>2011</td>\n",
       "      <td>NaN</td>\n",
       "      <td>San Francisco</td>\n",
       "      <td>NaN</td>\n",
       "    </tr>\n",
       "    <tr>\n",
       "      <th>676</th>\n",
       "      <td>JULIAN NG</td>\n",
       "      <td>SERGEANT III (POLICE DEPARTMENT)</td>\n",
       "      <td>130457.76</td>\n",
       "      <td>43793.11</td>\n",
       "      <td>6061.80</td>\n",
       "      <td>NaN</td>\n",
       "      <td>180312.67</td>\n",
       "      <td>180312.67</td>\n",
       "      <td>2011</td>\n",
       "      <td>NaN</td>\n",
       "      <td>San Francisco</td>\n",
       "      <td>NaN</td>\n",
       "    </tr>\n",
       "  </tbody>\n",
       "</table>\n",
       "<p>676 rows × 12 columns</p>\n",
       "</div>"
      ]
     },
     "metadata": {},
     "execution_count": 6
    }
   ],
   "metadata": {}
  },
  {
   "cell_type": "markdown",
   "source": [
    "Let's get only the first 5 rows and save that into a new csv"
   ],
   "metadata": {}
  },
  {
   "cell_type": "code",
   "execution_count": 8,
   "source": [
    "df_short = df.head(5)\r\n",
    "df_short\r\n",
    "df_short.to_csv('Salaries_5.csv')"
   ],
   "outputs": [],
   "metadata": {}
  },
  {
   "cell_type": "markdown",
   "source": [
    "## Pandas and JSON"
   ],
   "metadata": {}
  },
  {
   "cell_type": "markdown",
   "source": [
    "- Pandas can also read and write from and to JSON using the following commands."
   ],
   "metadata": {}
  },
  {
   "cell_type": "code",
   "execution_count": 13,
   "source": [
    "# json\r\n",
    "df = pd.read_json('JSON_sample.json')\r\n",
    "df\r\n"
   ],
   "outputs": [
    {
     "output_type": "execute_result",
     "data": {
      "text/plain": [
       "                                           Employees\n",
       "0  {'userId': 'person1', 'jobTitle': 'Developer',...\n",
       "1  {'userId': 'person2', 'jobTitle': 'Developer',...\n",
       "2  {'userId': 'person3', 'jobTitle': 'Program Dir..."
      ],
      "text/html": [
       "<div>\n",
       "<style scoped>\n",
       "    .dataframe tbody tr th:only-of-type {\n",
       "        vertical-align: middle;\n",
       "    }\n",
       "\n",
       "    .dataframe tbody tr th {\n",
       "        vertical-align: top;\n",
       "    }\n",
       "\n",
       "    .dataframe thead th {\n",
       "        text-align: right;\n",
       "    }\n",
       "</style>\n",
       "<table border=\"1\" class=\"dataframe\">\n",
       "  <thead>\n",
       "    <tr style=\"text-align: right;\">\n",
       "      <th></th>\n",
       "      <th>Employees</th>\n",
       "    </tr>\n",
       "  </thead>\n",
       "  <tbody>\n",
       "    <tr>\n",
       "      <th>0</th>\n",
       "      <td>{'userId': 'person1', 'jobTitle': 'Developer',...</td>\n",
       "    </tr>\n",
       "    <tr>\n",
       "      <th>1</th>\n",
       "      <td>{'userId': 'person2', 'jobTitle': 'Developer',...</td>\n",
       "    </tr>\n",
       "    <tr>\n",
       "      <th>2</th>\n",
       "      <td>{'userId': 'person3', 'jobTitle': 'Program Dir...</td>\n",
       "    </tr>\n",
       "  </tbody>\n",
       "</table>\n",
       "</div>"
      ]
     },
     "metadata": {},
     "execution_count": 13
    }
   ],
   "metadata": {}
  },
  {
   "cell_type": "markdown",
   "source": [
    "This doesn't look good... We have to normalize each value in that column, so each key corresponds to a column"
   ],
   "metadata": {}
  },
  {
   "cell_type": "code",
   "execution_count": 11,
   "source": [
    "df['Employees']"
   ],
   "outputs": [
    {
     "output_type": "execute_result",
     "data": {
      "text/plain": [
       "0    {'userId': 'person1', 'jobTitle': 'Developer',...\n",
       "1    {'userId': 'person2', 'jobTitle': 'Developer',...\n",
       "2    {'userId': 'person3', 'jobTitle': 'Program Dir...\n",
       "Name: Employees, dtype: object"
      ]
     },
     "metadata": {},
     "execution_count": 11
    }
   ],
   "metadata": {}
  },
  {
   "cell_type": "code",
   "execution_count": 14,
   "source": [
    "df_nice = pd.json_normalize(df[\"Employees\"])\r\n",
    "df_nice"
   ],
   "outputs": [
    {
     "output_type": "execute_result",
     "data": {
      "text/plain": [
       "    userId           jobTitle firstName lastName employeeCode region  \\\n",
       "0  person1          Developer     Harry     Berg           E1     CA   \n",
       "1  person2          Developer     Nihir     Vedd           E2     CA   \n",
       "2  person3  Program Directory      Joao  Pereira           E3     CA   \n",
       "\n",
       "  phoneNumber             emailAddress            emailAddres  \n",
       "0      123456    harry.berg@aicore.com                    NaN  \n",
       "1     1111111                      NaN  nihir.vedd@aicore.com  \n",
       "2     2222222  joao.pereira@aicore.com                    NaN  "
      ],
      "text/html": [
       "<div>\n",
       "<style scoped>\n",
       "    .dataframe tbody tr th:only-of-type {\n",
       "        vertical-align: middle;\n",
       "    }\n",
       "\n",
       "    .dataframe tbody tr th {\n",
       "        vertical-align: top;\n",
       "    }\n",
       "\n",
       "    .dataframe thead th {\n",
       "        text-align: right;\n",
       "    }\n",
       "</style>\n",
       "<table border=\"1\" class=\"dataframe\">\n",
       "  <thead>\n",
       "    <tr style=\"text-align: right;\">\n",
       "      <th></th>\n",
       "      <th>userId</th>\n",
       "      <th>jobTitle</th>\n",
       "      <th>firstName</th>\n",
       "      <th>lastName</th>\n",
       "      <th>employeeCode</th>\n",
       "      <th>region</th>\n",
       "      <th>phoneNumber</th>\n",
       "      <th>emailAddress</th>\n",
       "      <th>emailAddres</th>\n",
       "    </tr>\n",
       "  </thead>\n",
       "  <tbody>\n",
       "    <tr>\n",
       "      <th>0</th>\n",
       "      <td>person1</td>\n",
       "      <td>Developer</td>\n",
       "      <td>Harry</td>\n",
       "      <td>Berg</td>\n",
       "      <td>E1</td>\n",
       "      <td>CA</td>\n",
       "      <td>123456</td>\n",
       "      <td>harry.berg@aicore.com</td>\n",
       "      <td>NaN</td>\n",
       "    </tr>\n",
       "    <tr>\n",
       "      <th>1</th>\n",
       "      <td>person2</td>\n",
       "      <td>Developer</td>\n",
       "      <td>Nihir</td>\n",
       "      <td>Vedd</td>\n",
       "      <td>E2</td>\n",
       "      <td>CA</td>\n",
       "      <td>1111111</td>\n",
       "      <td>NaN</td>\n",
       "      <td>nihir.vedd@aicore.com</td>\n",
       "    </tr>\n",
       "    <tr>\n",
       "      <th>2</th>\n",
       "      <td>person3</td>\n",
       "      <td>Program Directory</td>\n",
       "      <td>Joao</td>\n",
       "      <td>Pereira</td>\n",
       "      <td>E3</td>\n",
       "      <td>CA</td>\n",
       "      <td>2222222</td>\n",
       "      <td>joao.pereira@aicore.com</td>\n",
       "      <td>NaN</td>\n",
       "    </tr>\n",
       "  </tbody>\n",
       "</table>\n",
       "</div>"
      ]
     },
     "metadata": {},
     "execution_count": 14
    }
   ],
   "metadata": {}
  },
  {
   "cell_type": "code",
   "execution_count": 15,
   "source": [
    "df_nice.to_json('JSON_sample_new.json')"
   ],
   "outputs": [],
   "metadata": {}
  },
  {
   "cell_type": "markdown",
   "source": [
    "## Pandas and XLSX\n",
    "- pandas cannot read in formulas, macros or graphs, only raw data.\n",
    "- Also, we must specify the sheetname to read in as a data frame or write to when using the read_excel and to_excel methods."
   ],
   "metadata": {}
  },
  {
   "cell_type": "code",
   "execution_count": null,
   "source": [
    "# read_excel has the same file stipulations as all read_ methods\n",
    "df = pd.read_excel('<filename>',sheet_name='<sheetname>')\n",
    "\n",
    "# remember to specify sheet name with Excel files\n",
    "df.to_excel('<filename>',sheet_name='<sheetname>')"
   ],
   "outputs": [],
   "metadata": {}
  },
  {
   "cell_type": "markdown",
   "source": [
    "Example:"
   ],
   "metadata": {}
  },
  {
   "cell_type": "code",
   "execution_count": 16,
   "source": [
    "df = pd.read_excel('test.xlsx')\n",
    "df"
   ],
   "outputs": [
    {
     "output_type": "execute_result",
     "data": {
      "text/plain": [
       "           I am in the first cell!  789\n",
       "0  Second position is not that bad  NaN\n",
       "1                              123  NaN\n",
       "2                          123.456  NaN"
      ],
      "text/html": [
       "<div>\n",
       "<style scoped>\n",
       "    .dataframe tbody tr th:only-of-type {\n",
       "        vertical-align: middle;\n",
       "    }\n",
       "\n",
       "    .dataframe tbody tr th {\n",
       "        vertical-align: top;\n",
       "    }\n",
       "\n",
       "    .dataframe thead th {\n",
       "        text-align: right;\n",
       "    }\n",
       "</style>\n",
       "<table border=\"1\" class=\"dataframe\">\n",
       "  <thead>\n",
       "    <tr style=\"text-align: right;\">\n",
       "      <th></th>\n",
       "      <th>I am in the first cell!</th>\n",
       "      <th>789</th>\n",
       "    </tr>\n",
       "  </thead>\n",
       "  <tbody>\n",
       "    <tr>\n",
       "      <th>0</th>\n",
       "      <td>Second position is not that bad</td>\n",
       "      <td>NaN</td>\n",
       "    </tr>\n",
       "    <tr>\n",
       "      <th>1</th>\n",
       "      <td>123</td>\n",
       "      <td>NaN</td>\n",
       "    </tr>\n",
       "    <tr>\n",
       "      <th>2</th>\n",
       "      <td>123.456</td>\n",
       "      <td>NaN</td>\n",
       "    </tr>\n",
       "  </tbody>\n",
       "</table>\n",
       "</div>"
      ]
     },
     "metadata": {},
     "execution_count": 16
    }
   ],
   "metadata": {}
  },
  {
   "cell_type": "markdown",
   "source": [
    "Observe that the empty values are transformed into NaN values.\n",
    "\n",
    "There is something wrong with this... It is taking the first row of the Excel file as the columns"
   ],
   "metadata": {}
  },
  {
   "cell_type": "code",
   "execution_count": 17,
   "source": [
    "df = pd.read_excel('test.xlsx', header=None)\n",
    "df"
   ],
   "outputs": [
    {
     "output_type": "execute_result",
     "data": {
      "text/plain": [
       "                                 0      1\n",
       "0          I am in the first cell!  789.0\n",
       "1  Second position is not that bad    NaN\n",
       "2                              123    NaN\n",
       "3                          123.456    NaN"
      ],
      "text/html": [
       "<div>\n",
       "<style scoped>\n",
       "    .dataframe tbody tr th:only-of-type {\n",
       "        vertical-align: middle;\n",
       "    }\n",
       "\n",
       "    .dataframe tbody tr th {\n",
       "        vertical-align: top;\n",
       "    }\n",
       "\n",
       "    .dataframe thead th {\n",
       "        text-align: right;\n",
       "    }\n",
       "</style>\n",
       "<table border=\"1\" class=\"dataframe\">\n",
       "  <thead>\n",
       "    <tr style=\"text-align: right;\">\n",
       "      <th></th>\n",
       "      <th>0</th>\n",
       "      <th>1</th>\n",
       "    </tr>\n",
       "  </thead>\n",
       "  <tbody>\n",
       "    <tr>\n",
       "      <th>0</th>\n",
       "      <td>I am in the first cell!</td>\n",
       "      <td>789.0</td>\n",
       "    </tr>\n",
       "    <tr>\n",
       "      <th>1</th>\n",
       "      <td>Second position is not that bad</td>\n",
       "      <td>NaN</td>\n",
       "    </tr>\n",
       "    <tr>\n",
       "      <th>2</th>\n",
       "      <td>123</td>\n",
       "      <td>NaN</td>\n",
       "    </tr>\n",
       "    <tr>\n",
       "      <th>3</th>\n",
       "      <td>123.456</td>\n",
       "      <td>NaN</td>\n",
       "    </tr>\n",
       "  </tbody>\n",
       "</table>\n",
       "</div>"
      ]
     },
     "metadata": {},
     "execution_count": 17
    }
   ],
   "metadata": {}
  },
  {
   "cell_type": "markdown",
   "source": [
    "That's better... But now it just give some numeric values to the columns"
   ],
   "metadata": {}
  },
  {
   "cell_type": "code",
   "execution_count": 18,
   "source": [
    "df = pd.read_excel('test.xlsx', header=None, names=['First_Column', 'Second_Column'])\n",
    "df"
   ],
   "outputs": [
    {
     "output_type": "execute_result",
     "data": {
      "text/plain": [
       "                      First_Column  Second_Column\n",
       "0          I am in the first cell!          789.0\n",
       "1  Second position is not that bad            NaN\n",
       "2                              123            NaN\n",
       "3                          123.456            NaN"
      ],
      "text/html": [
       "<div>\n",
       "<style scoped>\n",
       "    .dataframe tbody tr th:only-of-type {\n",
       "        vertical-align: middle;\n",
       "    }\n",
       "\n",
       "    .dataframe tbody tr th {\n",
       "        vertical-align: top;\n",
       "    }\n",
       "\n",
       "    .dataframe thead th {\n",
       "        text-align: right;\n",
       "    }\n",
       "</style>\n",
       "<table border=\"1\" class=\"dataframe\">\n",
       "  <thead>\n",
       "    <tr style=\"text-align: right;\">\n",
       "      <th></th>\n",
       "      <th>First_Column</th>\n",
       "      <th>Second_Column</th>\n",
       "    </tr>\n",
       "  </thead>\n",
       "  <tbody>\n",
       "    <tr>\n",
       "      <th>0</th>\n",
       "      <td>I am in the first cell!</td>\n",
       "      <td>789.0</td>\n",
       "    </tr>\n",
       "    <tr>\n",
       "      <th>1</th>\n",
       "      <td>Second position is not that bad</td>\n",
       "      <td>NaN</td>\n",
       "    </tr>\n",
       "    <tr>\n",
       "      <th>2</th>\n",
       "      <td>123</td>\n",
       "      <td>NaN</td>\n",
       "    </tr>\n",
       "    <tr>\n",
       "      <th>3</th>\n",
       "      <td>123.456</td>\n",
       "      <td>NaN</td>\n",
       "    </tr>\n",
       "  </tbody>\n",
       "</table>\n",
       "</div>"
      ]
     },
     "metadata": {},
     "execution_count": 18
    }
   ],
   "metadata": {}
  },
  {
   "cell_type": "markdown",
   "source": [
    "We can also specify the sheet we want to work with"
   ],
   "metadata": {}
  },
  {
   "cell_type": "code",
   "execution_count": 19,
   "source": [
    "df = pd.read_excel('demo.xlsx', sheet_name='Instructors')\n",
    "df\n"
   ],
   "outputs": [
    {
     "output_type": "execute_result",
     "data": {
      "text/plain": [
       "    Id First Name Last Name\n",
       "0  I01      Harry      Berg\n",
       "1  I02     Szymon    Maszke\n",
       "2  I03        Dan      Sanz\n",
       "3  I04        Ali  Abdelaal\n",
       "4  I05       Ivan      Ying"
      ],
      "text/html": [
       "<div>\n",
       "<style scoped>\n",
       "    .dataframe tbody tr th:only-of-type {\n",
       "        vertical-align: middle;\n",
       "    }\n",
       "\n",
       "    .dataframe tbody tr th {\n",
       "        vertical-align: top;\n",
       "    }\n",
       "\n",
       "    .dataframe thead th {\n",
       "        text-align: right;\n",
       "    }\n",
       "</style>\n",
       "<table border=\"1\" class=\"dataframe\">\n",
       "  <thead>\n",
       "    <tr style=\"text-align: right;\">\n",
       "      <th></th>\n",
       "      <th>Id</th>\n",
       "      <th>First Name</th>\n",
       "      <th>Last Name</th>\n",
       "    </tr>\n",
       "  </thead>\n",
       "  <tbody>\n",
       "    <tr>\n",
       "      <th>0</th>\n",
       "      <td>I01</td>\n",
       "      <td>Harry</td>\n",
       "      <td>Berg</td>\n",
       "    </tr>\n",
       "    <tr>\n",
       "      <th>1</th>\n",
       "      <td>I02</td>\n",
       "      <td>Szymon</td>\n",
       "      <td>Maszke</td>\n",
       "    </tr>\n",
       "    <tr>\n",
       "      <th>2</th>\n",
       "      <td>I03</td>\n",
       "      <td>Dan</td>\n",
       "      <td>Sanz</td>\n",
       "    </tr>\n",
       "    <tr>\n",
       "      <th>3</th>\n",
       "      <td>I04</td>\n",
       "      <td>Ali</td>\n",
       "      <td>Abdelaal</td>\n",
       "    </tr>\n",
       "    <tr>\n",
       "      <th>4</th>\n",
       "      <td>I05</td>\n",
       "      <td>Ivan</td>\n",
       "      <td>Ying</td>\n",
       "    </tr>\n",
       "  </tbody>\n",
       "</table>\n",
       "</div>"
      ]
     },
     "metadata": {},
     "execution_count": 19
    }
   ],
   "metadata": {}
  },
  {
   "cell_type": "code",
   "execution_count": 20,
   "source": [
    "df = pd.read_excel('demo.xlsx', sheet_name='Students')\n",
    "df"
   ],
   "outputs": [
    {
     "output_type": "execute_result",
     "data": {
      "text/plain": [
       "     Id First Name     Last Name\n",
       "0   S01      Ahsan       Muzafar\n",
       "1   S02       Alex     Henderson\n",
       "2   S03  Ana-Maria          Dicu\n",
       "3   S04      Bilal      Armiyawo\n",
       "4   S05      Easha      Tu Razia\n",
       "5   S06      Harry         Smith\n",
       "6   S07      Mahta     Haghighat\n",
       "7   S08    Mariana   Karavangeli\n",
       "8   S09      Milan         Sajiv\n",
       "9   S10    Olumide       Fatokun\n",
       "10  S11      Ruby   Roach Ashton\n",
       "11  S12      Semmi         Nyomi\n",
       "12  S13     Shweta         Yadav\n",
       "13  S14       Yuya            Ra"
      ],
      "text/html": [
       "<div>\n",
       "<style scoped>\n",
       "    .dataframe tbody tr th:only-of-type {\n",
       "        vertical-align: middle;\n",
       "    }\n",
       "\n",
       "    .dataframe tbody tr th {\n",
       "        vertical-align: top;\n",
       "    }\n",
       "\n",
       "    .dataframe thead th {\n",
       "        text-align: right;\n",
       "    }\n",
       "</style>\n",
       "<table border=\"1\" class=\"dataframe\">\n",
       "  <thead>\n",
       "    <tr style=\"text-align: right;\">\n",
       "      <th></th>\n",
       "      <th>Id</th>\n",
       "      <th>First Name</th>\n",
       "      <th>Last Name</th>\n",
       "    </tr>\n",
       "  </thead>\n",
       "  <tbody>\n",
       "    <tr>\n",
       "      <th>0</th>\n",
       "      <td>S01</td>\n",
       "      <td>Ahsan</td>\n",
       "      <td>Muzafar</td>\n",
       "    </tr>\n",
       "    <tr>\n",
       "      <th>1</th>\n",
       "      <td>S02</td>\n",
       "      <td>Alex</td>\n",
       "      <td>Henderson</td>\n",
       "    </tr>\n",
       "    <tr>\n",
       "      <th>2</th>\n",
       "      <td>S03</td>\n",
       "      <td>Ana-Maria</td>\n",
       "      <td>Dicu</td>\n",
       "    </tr>\n",
       "    <tr>\n",
       "      <th>3</th>\n",
       "      <td>S04</td>\n",
       "      <td>Bilal</td>\n",
       "      <td>Armiyawo</td>\n",
       "    </tr>\n",
       "    <tr>\n",
       "      <th>4</th>\n",
       "      <td>S05</td>\n",
       "      <td>Easha</td>\n",
       "      <td>Tu Razia</td>\n",
       "    </tr>\n",
       "    <tr>\n",
       "      <th>5</th>\n",
       "      <td>S06</td>\n",
       "      <td>Harry</td>\n",
       "      <td>Smith</td>\n",
       "    </tr>\n",
       "    <tr>\n",
       "      <th>6</th>\n",
       "      <td>S07</td>\n",
       "      <td>Mahta</td>\n",
       "      <td>Haghighat</td>\n",
       "    </tr>\n",
       "    <tr>\n",
       "      <th>7</th>\n",
       "      <td>S08</td>\n",
       "      <td>Mariana</td>\n",
       "      <td>Karavangeli</td>\n",
       "    </tr>\n",
       "    <tr>\n",
       "      <th>8</th>\n",
       "      <td>S09</td>\n",
       "      <td>Milan</td>\n",
       "      <td>Sajiv</td>\n",
       "    </tr>\n",
       "    <tr>\n",
       "      <th>9</th>\n",
       "      <td>S10</td>\n",
       "      <td>Olumide</td>\n",
       "      <td>Fatokun</td>\n",
       "    </tr>\n",
       "    <tr>\n",
       "      <th>10</th>\n",
       "      <td>S11</td>\n",
       "      <td>Ruby</td>\n",
       "      <td>Roach Ashton</td>\n",
       "    </tr>\n",
       "    <tr>\n",
       "      <th>11</th>\n",
       "      <td>S12</td>\n",
       "      <td>Semmi</td>\n",
       "      <td>Nyomi</td>\n",
       "    </tr>\n",
       "    <tr>\n",
       "      <th>12</th>\n",
       "      <td>S13</td>\n",
       "      <td>Shweta</td>\n",
       "      <td>Yadav</td>\n",
       "    </tr>\n",
       "    <tr>\n",
       "      <th>13</th>\n",
       "      <td>S14</td>\n",
       "      <td>Yuya</td>\n",
       "      <td>Ra</td>\n",
       "    </tr>\n",
       "  </tbody>\n",
       "</table>\n",
       "</div>"
      ]
     },
     "metadata": {},
     "execution_count": 20
    }
   ],
   "metadata": {}
  },
  {
   "cell_type": "markdown",
   "source": [
    "Or we can give numeric values if we know their relative position in the file:"
   ],
   "metadata": {}
  },
  {
   "cell_type": "code",
   "execution_count": 21,
   "source": [
    "df = pd.read_excel('demo.xlsx', sheet_name=1)\n",
    "df"
   ],
   "outputs": [
    {
     "output_type": "execute_result",
     "data": {
      "text/plain": [
       "     Id First Name     Last Name\n",
       "0   S01      Ahsan       Muzafar\n",
       "1   S02       Alex     Henderson\n",
       "2   S03  Ana-Maria          Dicu\n",
       "3   S04      Bilal      Armiyawo\n",
       "4   S05      Easha      Tu Razia\n",
       "5   S06      Harry         Smith\n",
       "6   S07      Mahta     Haghighat\n",
       "7   S08    Mariana   Karavangeli\n",
       "8   S09      Milan         Sajiv\n",
       "9   S10    Olumide       Fatokun\n",
       "10  S11      Ruby   Roach Ashton\n",
       "11  S12      Semmi         Nyomi\n",
       "12  S13     Shweta         Yadav\n",
       "13  S14       Yuya            Ra"
      ],
      "text/html": [
       "<div>\n",
       "<style scoped>\n",
       "    .dataframe tbody tr th:only-of-type {\n",
       "        vertical-align: middle;\n",
       "    }\n",
       "\n",
       "    .dataframe tbody tr th {\n",
       "        vertical-align: top;\n",
       "    }\n",
       "\n",
       "    .dataframe thead th {\n",
       "        text-align: right;\n",
       "    }\n",
       "</style>\n",
       "<table border=\"1\" class=\"dataframe\">\n",
       "  <thead>\n",
       "    <tr style=\"text-align: right;\">\n",
       "      <th></th>\n",
       "      <th>Id</th>\n",
       "      <th>First Name</th>\n",
       "      <th>Last Name</th>\n",
       "    </tr>\n",
       "  </thead>\n",
       "  <tbody>\n",
       "    <tr>\n",
       "      <th>0</th>\n",
       "      <td>S01</td>\n",
       "      <td>Ahsan</td>\n",
       "      <td>Muzafar</td>\n",
       "    </tr>\n",
       "    <tr>\n",
       "      <th>1</th>\n",
       "      <td>S02</td>\n",
       "      <td>Alex</td>\n",
       "      <td>Henderson</td>\n",
       "    </tr>\n",
       "    <tr>\n",
       "      <th>2</th>\n",
       "      <td>S03</td>\n",
       "      <td>Ana-Maria</td>\n",
       "      <td>Dicu</td>\n",
       "    </tr>\n",
       "    <tr>\n",
       "      <th>3</th>\n",
       "      <td>S04</td>\n",
       "      <td>Bilal</td>\n",
       "      <td>Armiyawo</td>\n",
       "    </tr>\n",
       "    <tr>\n",
       "      <th>4</th>\n",
       "      <td>S05</td>\n",
       "      <td>Easha</td>\n",
       "      <td>Tu Razia</td>\n",
       "    </tr>\n",
       "    <tr>\n",
       "      <th>5</th>\n",
       "      <td>S06</td>\n",
       "      <td>Harry</td>\n",
       "      <td>Smith</td>\n",
       "    </tr>\n",
       "    <tr>\n",
       "      <th>6</th>\n",
       "      <td>S07</td>\n",
       "      <td>Mahta</td>\n",
       "      <td>Haghighat</td>\n",
       "    </tr>\n",
       "    <tr>\n",
       "      <th>7</th>\n",
       "      <td>S08</td>\n",
       "      <td>Mariana</td>\n",
       "      <td>Karavangeli</td>\n",
       "    </tr>\n",
       "    <tr>\n",
       "      <th>8</th>\n",
       "      <td>S09</td>\n",
       "      <td>Milan</td>\n",
       "      <td>Sajiv</td>\n",
       "    </tr>\n",
       "    <tr>\n",
       "      <th>9</th>\n",
       "      <td>S10</td>\n",
       "      <td>Olumide</td>\n",
       "      <td>Fatokun</td>\n",
       "    </tr>\n",
       "    <tr>\n",
       "      <th>10</th>\n",
       "      <td>S11</td>\n",
       "      <td>Ruby</td>\n",
       "      <td>Roach Ashton</td>\n",
       "    </tr>\n",
       "    <tr>\n",
       "      <th>11</th>\n",
       "      <td>S12</td>\n",
       "      <td>Semmi</td>\n",
       "      <td>Nyomi</td>\n",
       "    </tr>\n",
       "    <tr>\n",
       "      <th>12</th>\n",
       "      <td>S13</td>\n",
       "      <td>Shweta</td>\n",
       "      <td>Yadav</td>\n",
       "    </tr>\n",
       "    <tr>\n",
       "      <th>13</th>\n",
       "      <td>S14</td>\n",
       "      <td>Yuya</td>\n",
       "      <td>Ra</td>\n",
       "    </tr>\n",
       "  </tbody>\n",
       "</table>\n",
       "</div>"
      ]
     },
     "metadata": {},
     "execution_count": 21
    }
   ],
   "metadata": {}
  },
  {
   "cell_type": "markdown",
   "source": [
    "We can also load all of them, but this will return a dictionaries, where each value correspond to each dataframe:"
   ],
   "metadata": {}
  },
  {
   "cell_type": "code",
   "execution_count": 22,
   "source": [
    "df = pd.read_excel('demo.xlsx', sheet_name=None)\n",
    "df"
   ],
   "outputs": [
    {
     "output_type": "execute_result",
     "data": {
      "text/plain": [
       "{'Instructors':     Id First Name Last Name\n",
       " 0  I01      Harry      Berg\n",
       " 1  I02     Szymon    Maszke\n",
       " 2  I03        Dan      Sanz\n",
       " 3  I04        Ali  Abdelaal\n",
       " 4  I05       Ivan      Ying,\n",
       " 'Students':      Id First Name     Last Name\n",
       " 0   S01      Ahsan       Muzafar\n",
       " 1   S02       Alex     Henderson\n",
       " 2   S03  Ana-Maria          Dicu\n",
       " 3   S04      Bilal      Armiyawo\n",
       " 4   S05      Easha      Tu Razia\n",
       " 5   S06      Harry         Smith\n",
       " 6   S07      Mahta     Haghighat\n",
       " 7   S08    Mariana   Karavangeli\n",
       " 8   S09      Milan         Sajiv\n",
       " 9   S10    Olumide       Fatokun\n",
       " 10  S11      Ruby   Roach Ashton\n",
       " 11  S12      Semmi         Nyomi\n",
       " 12  S13     Shweta         Yadav\n",
       " 13  S14       Yuya            Ra}"
      ]
     },
     "metadata": {},
     "execution_count": 22
    }
   ],
   "metadata": {}
  },
  {
   "cell_type": "code",
   "execution_count": 25,
   "source": [
    "df['Students']"
   ],
   "outputs": [
    {
     "output_type": "execute_result",
     "data": {
      "text/plain": [
       "     Id First Name     Last Name\n",
       "0   S01      Ahsan       Muzafar\n",
       "1   S02       Alex     Henderson\n",
       "2   S03  Ana-Maria          Dicu\n",
       "3   S04      Bilal      Armiyawo\n",
       "4   S05      Easha      Tu Razia\n",
       "5   S06      Harry         Smith\n",
       "6   S07      Mahta     Haghighat\n",
       "7   S08    Mariana   Karavangeli\n",
       "8   S09      Milan         Sajiv\n",
       "9   S10    Olumide       Fatokun\n",
       "10  S11      Ruby   Roach Ashton\n",
       "11  S12      Semmi         Nyomi\n",
       "12  S13     Shweta         Yadav\n",
       "13  S14       Yuya            Ra"
      ],
      "text/html": [
       "<div>\n",
       "<style scoped>\n",
       "    .dataframe tbody tr th:only-of-type {\n",
       "        vertical-align: middle;\n",
       "    }\n",
       "\n",
       "    .dataframe tbody tr th {\n",
       "        vertical-align: top;\n",
       "    }\n",
       "\n",
       "    .dataframe thead th {\n",
       "        text-align: right;\n",
       "    }\n",
       "</style>\n",
       "<table border=\"1\" class=\"dataframe\">\n",
       "  <thead>\n",
       "    <tr style=\"text-align: right;\">\n",
       "      <th></th>\n",
       "      <th>Id</th>\n",
       "      <th>First Name</th>\n",
       "      <th>Last Name</th>\n",
       "    </tr>\n",
       "  </thead>\n",
       "  <tbody>\n",
       "    <tr>\n",
       "      <th>0</th>\n",
       "      <td>S01</td>\n",
       "      <td>Ahsan</td>\n",
       "      <td>Muzafar</td>\n",
       "    </tr>\n",
       "    <tr>\n",
       "      <th>1</th>\n",
       "      <td>S02</td>\n",
       "      <td>Alex</td>\n",
       "      <td>Henderson</td>\n",
       "    </tr>\n",
       "    <tr>\n",
       "      <th>2</th>\n",
       "      <td>S03</td>\n",
       "      <td>Ana-Maria</td>\n",
       "      <td>Dicu</td>\n",
       "    </tr>\n",
       "    <tr>\n",
       "      <th>3</th>\n",
       "      <td>S04</td>\n",
       "      <td>Bilal</td>\n",
       "      <td>Armiyawo</td>\n",
       "    </tr>\n",
       "    <tr>\n",
       "      <th>4</th>\n",
       "      <td>S05</td>\n",
       "      <td>Easha</td>\n",
       "      <td>Tu Razia</td>\n",
       "    </tr>\n",
       "    <tr>\n",
       "      <th>5</th>\n",
       "      <td>S06</td>\n",
       "      <td>Harry</td>\n",
       "      <td>Smith</td>\n",
       "    </tr>\n",
       "    <tr>\n",
       "      <th>6</th>\n",
       "      <td>S07</td>\n",
       "      <td>Mahta</td>\n",
       "      <td>Haghighat</td>\n",
       "    </tr>\n",
       "    <tr>\n",
       "      <th>7</th>\n",
       "      <td>S08</td>\n",
       "      <td>Mariana</td>\n",
       "      <td>Karavangeli</td>\n",
       "    </tr>\n",
       "    <tr>\n",
       "      <th>8</th>\n",
       "      <td>S09</td>\n",
       "      <td>Milan</td>\n",
       "      <td>Sajiv</td>\n",
       "    </tr>\n",
       "    <tr>\n",
       "      <th>9</th>\n",
       "      <td>S10</td>\n",
       "      <td>Olumide</td>\n",
       "      <td>Fatokun</td>\n",
       "    </tr>\n",
       "    <tr>\n",
       "      <th>10</th>\n",
       "      <td>S11</td>\n",
       "      <td>Ruby</td>\n",
       "      <td>Roach Ashton</td>\n",
       "    </tr>\n",
       "    <tr>\n",
       "      <th>11</th>\n",
       "      <td>S12</td>\n",
       "      <td>Semmi</td>\n",
       "      <td>Nyomi</td>\n",
       "    </tr>\n",
       "    <tr>\n",
       "      <th>12</th>\n",
       "      <td>S13</td>\n",
       "      <td>Shweta</td>\n",
       "      <td>Yadav</td>\n",
       "    </tr>\n",
       "    <tr>\n",
       "      <th>13</th>\n",
       "      <td>S14</td>\n",
       "      <td>Yuya</td>\n",
       "      <td>Ra</td>\n",
       "    </tr>\n",
       "  </tbody>\n",
       "</table>\n",
       "</div>"
      ]
     },
     "metadata": {},
     "execution_count": 25
    }
   ],
   "metadata": {}
  },
  {
   "cell_type": "markdown",
   "source": [
    "## Summary\n",
    "- We now understand the basic file formats of CSV/XLSX/JSON.\n",
    "- We now know how to read them into pandas.\n",
    "\n",
    "## Further reading\n",
    "The only further reading for this section is below, on importing XML files. Understanding how, why and when to do this requires some understanding of pandas, so it is recommended that you wait until you have some practise with pandas before attempting to learn this."
   ],
   "metadata": {}
  },
  {
   "cell_type": "markdown",
   "source": [
    "## Reference only: XML\n",
    "- XML (eXtensible Markup Language) is another way of exchanging data between browsers and servers (JSON is an alternative to XML).\n",
    "- Hence, like with JSON, we can use XML to obtain data from the web.\n",
    "- XML is a markup language like HTML, so it contains data, and information on how to structure that data, but not how it is displayed.\n",
    "- Hence we need an API to extract data from an XML file, and so there is no simple method to read an XML into pandas.\n",
    "- You can use the following process although it is not the only possible way to do it:"
   ],
   "metadata": {}
  },
  {
   "cell_type": "markdown",
   "source": [
    "- You can use this premade function to parse in XML files, which requires only 2 arguments:\n",
    "    - The XML filename\n",
    "    - The columns of the data frame (the fields in each observation in the XML file)"
   ],
   "metadata": {}
  },
  {
   "cell_type": "code",
   "execution_count": null,
   "source": [
    "import pandas as pd\n",
    "import xml.etree.ElementTree as et\n",
    "\n",
    "def parse_XML(xml_file, df_cols): \n",
    "    \"\"\"Parse the input XML file and store the result in a pandas \n",
    "    DataFrame with the given columns. \n",
    "    \n",
    "    The first element of df_cols is supposed to be the identifier \n",
    "    variable, which is an attribute of each node element in the \n",
    "    XML data; other features will be parsed from the text content \n",
    "    of each sub-element. \n",
    "    \"\"\"\n",
    "    \n",
    "    xtree = et.parse(xml_file)\n",
    "    xroot = xtree.getroot()\n",
    "    rows = []\n",
    "    \n",
    "    for node in xroot: \n",
    "        res = []\n",
    "        res.append(node.attrib.get(df_cols[0]))\n",
    "        for el in df_cols[1:]: \n",
    "            if node is not None and node.find(el) is not None:\n",
    "                res.append(node.find(el).text)\n",
    "            else: \n",
    "                res.append(None)\n",
    "        rows.append({df_cols[i]: res[i] \n",
    "                     for i, _ in enumerate(df_cols)})\n",
    "    \n",
    "    out_df = pd.DataFrame(rows, columns=df_cols)\n",
    "        \n",
    "    return out_df"
   ],
   "outputs": [],
   "metadata": {}
  },
  {
   "cell_type": "code",
   "execution_count": null,
   "source": [
    "df = parse_XML(\"employees.xml\", [\"name\", \"email\", \"department\", \"age\"])\n",
    "df"
   ],
   "outputs": [],
   "metadata": {}
  }
 ],
 "metadata": {
  "interpreter": {
   "hash": "aee8b7b246df8f9039afb4144a1f6fd8d2ca17a180786b69acc140d282b71a49"
  },
  "kernelspec": {
   "display_name": "Python 3.9.6 64-bit",
   "name": "python3"
  },
  "language_info": {
   "name": "python",
   "version": ""
  }
 },
 "nbformat": 4,
 "nbformat_minor": 4
}
