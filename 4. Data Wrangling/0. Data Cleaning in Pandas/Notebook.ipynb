{
 "cells": [
  {
   "cell_type": "markdown",
   "source": [
    "# Data Cleaning\n",
    "\n",
    "## Learning Objectives\n",
    "\n",
    "- Identify what dirty data is\n",
    "- The side effects of working with dirty data\n",
    "- How to clean data\n",
    "\n",
    "A critical step before we run our data through the model is **Exploratory Data Analysis**, or EDA. EDA, as the name suggests, is an indepth analysis of our data. The EDA process intertwines data cleaning, dealing with missing values, and visualising data and its statistical properties. Typically these processes are all done together, but for the sake of clarifying the different concepts we will introduce them here separately. I will be providing toy examples through screenshots, while you guys will be trying to apply the concepts to a messy dataset!"
   ],
   "metadata": {}
  },
  {
   "cell_type": "markdown",
   "source": [
    "## Prerequisites\n",
    "[flights.txt](https://drive.google.com/file/d/1cVV3TZcxS31fk9JrskaRP1pbOfaoNcwe/view?usp=sharing)\n",
    "(source: https://www.kaggle.com/mmetter/flights/data).\n",
    "In most cases you will receive data which has documentation. **Reading data documentation is important**!!!! This particular piece of data doesn't have any documentation however - we'll have to use our intuition regarding the column/variable names. \n",
    "\n",
    "Run the following command to download the file into your directory:"
   ],
   "metadata": {}
  },
  {
   "cell_type": "code",
   "execution_count": 1,
   "source": [
    "!wget \"https://aicore-files.s3.amazonaws.com/Data-Eng/flights.txt\""
   ],
   "outputs": [
    {
     "output_type": "stream",
     "name": "stdout",
     "text": [
      "zsh:1: command not found: wget\n"
     ]
    }
   ],
   "metadata": {}
  },
  {
   "cell_type": "markdown",
   "source": [
    "## Data types\n",
    "Before we get started, let's talk about some different data types we can expect to come across:\n",
    "<p align=center>\n",
    "\t<table >\n",
    "\t\t<tbody>\n",
    "\t\t\t<tr>\n",
    "\t\t\t\t<td><b>Data type</b></td>\n",
    "\t\t\t\t<td><b>Python data type</b></td>\n",
    "\t\t\t\t<td><b>Examples</b></td>\n",
    "\t\t\t</tr>\n",
    "\t\t\t<tr>\n",
    "\t\t\t\t<td>Text data</td>\n",
    "\t\t\t\t<td>str</td>\n",
    "\t\t\t\t<td>Names, addresses</td>\n",
    "\t\t\t</tr>\n",
    "\t\t\t<tr>\n",
    "\t\t\t\t<td>Integers</td>\n",
    "\t\t\t\t<td>int</td>\n",
    "\t\t\t\t<td># items, # people</td>\n",
    "\t\t\t</tr>\n",
    "\t\t\t<tr>\n",
    "\t\t\t\t<td>Floats/Decimals</td>\n",
    "\t\t\t\t<td>float</td>\n",
    "\t\t\t\t<td>Currency, distances</td>\n",
    "\t\t\t</tr>\n",
    "\t\t\t<tr>\n",
    "\t\t\t\t<td>Binary/Boolean</td>\n",
    "\t\t\t\t<td>bool</td>\n",
    "\t\t\t\t<td>Is married, yes/no</td>\n",
    "\t\t\t</tr>\n",
    "\t\t\t<tr>\n",
    "\t\t\t\t<td>Date (and times)</td>\n",
    "\t\t\t\t<td>datetime</td>\n",
    "\t\t\t\t<td>Dispatch date, arrival time</td>\n",
    "\t\t\t</tr>\n",
    "\t\t\t<tr>\n",
    "\t\t\t\t<td>Categories</td>\n",
    "\t\t\t\t<td>category</td>\n",
    "\t\t\t\t<td>States, colours, gender</td>\n",
    "\t\t\t</tr>\n",
    "\t\t</tbody>\n",
    "\t</table>\n",
    "</p>"
   ],
   "metadata": {}
  },
  {
   "cell_type": "code",
   "execution_count": null,
   "source": [
    "import pandas as pd\n",
    "pd.set_option('display.max_columns', None)\n",
    "flights_df = pd.read_csv(\"flights.txt\", sep=\"|\") # Make sure flights.txt is in the same directory"
   ],
   "outputs": [],
   "metadata": {}
  },
  {
   "cell_type": "code",
   "execution_count": null,
   "source": [
    "flights_df.head()"
   ],
   "outputs": [],
   "metadata": {
    "scrolled": true
   }
  },
  {
   "cell_type": "markdown",
   "source": [
    "There are many issues that I can see with the data. We'll tackle them in an arbitrary order one by one, but lets first try and decide what we think each of the non-trivial columns is meant to represent."
   ],
   "metadata": {}
  },
  {
   "cell_type": "markdown",
   "source": [
    "- **TRANSACTIONID**: Unique identifer\n",
    "\n",
    "- **FLIGHTDATE**: Date of the flight. Looks like its encoded as a number instead of a date object\n",
    "\n",
    "- **TAILNUM**: Looks like it contains @@ in some of its rows. \n",
    "\n",
    "- **ORIGAIRPORTNAME** and **DESTAIRPORTNAME**: Looks like it has the city name and state concatenated and appended before the actual name of the airport \n",
    "\n",
    "- **CRSDEPTIME** and **DEPTIME**: Look like they represent incorrectly formatted (military) times. Also it seems to be that **CRSDEPTTIME** + **DEPDELAY** = **DEPTIME**\n",
    "\n",
    "- **DEPDELAY**: Departure delay in minutes?\n",
    "\n",
    "- **TAXIOUT**: How long it took from departure to wheels off. Looks like **DEPTIME** + **TAXIOUT** = **WHEELSOFF**\n",
    "\n",
    "- **WHEELSOFF**: The (military) time when wheels left the ground\n",
    "\n",
    "- **WHEELSON**: Military time when wheels touched the ground on descent\n",
    "\n",
    "- **TAXIIN**: Looks like the number of minutes since the wheels touched the ground to \"parking\"\n",
    "\n",
    "- **CRSARRTIME**: The military encoded expected arrival time\n",
    "\n",
    "- **ARRTIME**: Actual arrival time\n",
    "\n",
    "- **ARRDELAY**: Difference between **CRSARRTIME** and **ARRTIME**\n",
    "\n",
    "- **CRSELAPSEDTIME**: Planned journey time (minutes)\n",
    "\n",
    "- **ACTUALELAPSEDTIME**: Actual journey time (minutes)\n",
    "\n",
    "- **CANCELLED**: Whether the flight was cancelled or not. Looks like some values are False, others are F, and others 0. Possibly a similar variation for True\n",
    "\n",
    "- **DIVERTED**: Whether the plane was diverted. Similar issues regarding True/False as above?\n",
    "\n",
    "- **DISTANCE**: The (integer) distance the plane travelled, encoded as a string with \"miles\" concatenated to it"
   ],
   "metadata": {}
  },
  {
   "cell_type": "code",
   "execution_count": null,
   "source": [
    "flights_df"
   ],
   "outputs": [],
   "metadata": {}
  },
  {
   "cell_type": "markdown",
   "source": [
    "So walking through each column identifies the issues that this dataset might have. Let's tackle the **distance** issue first. It looks like this is meant to be _integer_ encoded (notice that I said that distances could be floats in the table at the beginning of this lecture. Why the change of mind?), and they have 'miles' appended to the end of the number. We can do a lot more stuff with numeric data than text data which represents numbers, so lets first convert this to an int.\n",
    "\n",
    "<table>\n",
    "    <tr>\n",
    "        <td> </td>\n",
    "        <td><b>OrderID</b></td>\n",
    "        <td><b>Cost</b></td>\n",
    "        <td><b>Quantity</b></td>\n",
    "        <td><b>Address</b></td>\n",
    "    </tr>\n",
    "    <tr>\n",
    "        <td>0</td>\n",
    "        <td>1234</td>\n",
    "        <td>£1000.00</td>\n",
    "        <td>10</td>\n",
    "        <td>123 Fake Street</td>\n",
    "    </tr>\n",
    "    <tr>\n",
    "        <td>1</td>\n",
    "        <td>7890</td>\n",
    "        <td>£35.50</td>\n",
    "        <td>3</td>\n",
    "        <td>789 Real Road</td>\n",
    "    </tr>\n",
    "    \n",
    "</table>\n",
    "\n",
    "In the above table, we can see that cost should be a float - however it has a £ symbol attached to it. To use this column as a float, we need to remove the £. Before doing this, however, let's take a look at the datatypes of the columns. This is done by calling the `.dtypes` attribute on our dataframe. In the above example case, we would have returned:\n",
    "\n",
    "<table>\n",
    "    <tr>\n",
    "        <td>OrderID</td>\n",
    "        <td>int64</td>\n",
    "    </tr>\n",
    "    <tr>\n",
    "        <td>Cost</td>\n",
    "        <td>object</td>\n",
    "    </tr>\n",
    "    <tr>\n",
    "        <td>Quantity</td>\n",
    "        <td>int64</td>\n",
    "    </tr>\n",
    "    <tr>\n",
    "        <td>Address</td>\n",
    "        <td>object</td>\n",
    "    </tr>\n",
    "</table>\n",
    "\n",
    "We can also use `.info()`, which returns us the amount of null information in each column too (we'll cover how to deal with null/missing values soon)"
   ],
   "metadata": {}
  },
  {
   "cell_type": "code",
   "execution_count": null,
   "source": [
    "## Find the object types for each column using .dtypes"
   ],
   "outputs": [],
   "metadata": {}
  },
  {
   "cell_type": "code",
   "execution_count": null,
   "source": [
    "## Find the object types and number of nulls using .info() "
   ],
   "outputs": [],
   "metadata": {}
  },
  {
   "cell_type": "markdown",
   "source": [
    "If we were to sum our above <b>cost</b> column (`sales['cost'].sum()`), something akin to the following would be returned:\n",
    "```£1000.00£35.50£46.10£76.35```...\n",
    "\n",
    "Obviously this isn't what we want.. we'd rather have all our costs summed.\n",
    "\n",
    "Try the same with the 'DISTANCE' column with our flights data"
   ],
   "metadata": {}
  },
  {
   "cell_type": "code",
   "execution_count": null,
   "source": [
    "## Sum the first 10 instances of 'DISTANCE' column in the flights data.\n",
    "# Be aware about where you slice ;). What's the technical difference between slicing before the .sum() and after? "
   ],
   "outputs": [],
   "metadata": {}
  },
  {
   "cell_type": "markdown",
   "source": [
    "So to resolve the issue with our sales data, we need to do two things:\n",
    "1. Remove the '£'\n",
    "2. Convert the column to a float data type\n",
    "\n",
    "This would be done as follows:\n",
    "```python\n",
    "sales['cost'] = sales['cost'].str.strip('£')\n",
    "sales['cost'] = sales['cost'].astype('float64')\n",
    "```\n",
    "\n",
    "Armed with this knowledge, let's convert the distance column to an int!"
   ],
   "metadata": {}
  },
  {
   "cell_type": "code",
   "execution_count": null,
   "source": [
    "## Remove the ' miles' from the dataframe\n",
    "\n",
    "## Convert the column to an int64 type\n",
    "\n",
    "## Verify that the column has converted to an int sucessfully"
   ],
   "outputs": [],
   "metadata": {}
  },
  {
   "cell_type": "markdown",
   "source": [
    "Cool! Ok, so that's how we can convert messy text data to numbers. Let's look at converting data to categorical values now.\n",
    "\n",
    "In our dataset, we have many columns which could be categorical. Can you identify which ones they are?\n",
    "<br>\n",
    "<details>\n",
    "    <summary><b>></b> Categorical variables (click to reveal)</summary>\n",
    "    <ul>\n",
    "        <li>AIRLINECODE</li>\n",
    "        <li>AIRLINENAME</li>\n",
    "        <li>ORIGINAIRPORTCODE</li>\n",
    "        <li>ORIGAIRPORTNAME</li>\n",
    "        <li>ORIGINCITYNAME</li>\n",
    "        <li>ORIGINSTATE</li>\n",
    "        <li>ORIGINSTATENAME</li>\n",
    "        <li>DESTAIRPORTCODE</li>\n",
    "        <li>DESTAIRPORTNAME</li>\n",
    "        <li>DESTCITYNAME</li>\n",
    "        <li>DESTSTATE</li>\n",
    "        <li>DESTSTATENAME</li>\n",
    "    </ul>\n",
    "</details>\n",
    "\n",
    "Using the `.describe()` method, we can identify more information about a particular column. Let's use `AIRLINECODE` as an example"
   ],
   "metadata": {}
  },
  {
   "cell_type": "code",
   "execution_count": null,
   "source": [
    "flights_df['AIRLINECODE'].describe()"
   ],
   "outputs": [],
   "metadata": {}
  },
  {
   "cell_type": "code",
   "execution_count": null,
   "source": [
    "flights_df['AIRLINECODE']"
   ],
   "outputs": [],
   "metadata": {}
  },
  {
   "cell_type": "markdown",
   "source": [
    "We get some (midly) useful statistics returned when we run `.describe()` over this variable. However, we can see that the datatype of this column has been interpreted as `object`. From the data types table we introduced earlier, we can see that support for categories exist. Let's convert this to a category and see the difference from the describe method."
   ],
   "metadata": {}
  },
  {
   "cell_type": "code",
   "execution_count": null,
   "source": [
    "flights_df['AIRLINECODE'] = flights_df['AIRLINECODE'].astype('category')\n",
    "flights_df['AIRLINECODE']"
   ],
   "outputs": [],
   "metadata": {
    "scrolled": true
   }
  },
  {
   "cell_type": "code",
   "execution_count": null,
   "source": [
    "flights_df['AIRLINECODE'].describe()"
   ],
   "outputs": [],
   "metadata": {}
  },
  {
   "cell_type": "markdown",
   "source": [
    "No visible difference `.describe()` method really (weirdly it still returns dtype of object 🤔)! Although we do see a new attribute when displying the actual information about the column. Either way, lets take a quick detour under the hood and see the advantages of representihng things as categories. We'll make use of the `.info()` method to look at our memory consumption "
   ],
   "metadata": {}
  },
  {
   "cell_type": "code",
   "execution_count": null,
   "source": [
    "flights_df['AIRLINECODE'] = flights_df['AIRLINECODE'].astype('object')\n",
    "flights_df.info()"
   ],
   "outputs": [],
   "metadata": {
    "tags": []
   }
  },
  {
   "cell_type": "code",
   "execution_count": null,
   "source": [
    "flights_df['AIRLINECODE'] = flights_df['AIRLINECODE'].astype('category')\n",
    "flights_df.info()"
   ],
   "outputs": [],
   "metadata": {
    "tags": []
   }
  },
  {
   "cell_type": "markdown",
   "source": [
    "We see our our memory usage has dropped by around 8mb by just converting this one column to a category! Ok, yes admittedly this isn't that big of a deal when working with data for this size, but remember, this saving on memory comes from just one of the many categorical columns we have.\n",
    "\n",
    "So why is this? Well, under the hood, Pandas represents categories as integer types. In fact, something that you may come across when working with other datasets is explictly seeing a category column encoded as integers. Let's modify our dataframe to see what happens when this could be the case."
   ],
   "metadata": {}
  },
  {
   "cell_type": "code",
   "execution_count": null,
   "source": [
    "flights_df['AIRLINECODE_ASINT'] = flights_df['AIRLINECODE'].cat.codes.astype('int64')\n",
    "flights_df['AIRLINECODE_ASINT']"
   ],
   "outputs": [],
   "metadata": {}
  },
  {
   "cell_type": "markdown",
   "source": [
    "When we run `.describe()` we can see statistics returned which don't exactly make sense for our column:"
   ],
   "metadata": {}
  },
  {
   "cell_type": "code",
   "execution_count": null,
   "source": [
    "flights_df['AIRLINECODE_ASINT'].describe()"
   ],
   "outputs": [],
   "metadata": {}
  },
  {
   "cell_type": "markdown",
   "source": [
    "It doesn't make sense for a categorical column to have a mean or any other those statistical propteries. We'll look at why this in a bit more detail further down the line"
   ],
   "metadata": {}
  },
  {
   "cell_type": "code",
   "execution_count": null,
   "source": [
    "flights_df = flights_df.drop('AIRLINECODE_ASINT', 1)"
   ],
   "outputs": [],
   "metadata": {}
  },
  {
   "cell_type": "markdown",
   "source": [
    "What datatypes (Numeric, datetime, text, or categorical) would you group the following examples as?:\n",
    "\n",
    "- Description of an item\n",
    "- Yearly income\n",
    "- Size of clothing\n",
    "- Arrival time of a plane\n",
    "- Birthdays of this cohort\n",
    "- Flavours of milkshakes at McDonalds\n",
    "- First half of a postcode\n",
    "- Full postcode\n",
    "- The time it took for runners to complete a 5K"
   ],
   "metadata": {}
  },
  {
   "cell_type": "markdown",
   "source": [
    "## Duplicate Values\n",
    "\n",
    "Another common issue that we might face is **duplicate values**. As the name suggests, this occurs when we have the same values repeated across multiple rows or columns:\n",
    "<table>\n",
    "    <tr>\n",
    "        <td><b>first_name</b></td>\n",
    "        <td><b>last_name</b></td>\n",
    "        <td><b>address</b></td>\n",
    "        <td><b>age</b></td>\n",
    "        <td><b>income</b></td>\n",
    "    </tr>\n",
    "    <tr>\n",
    "        <td>John</td>\n",
    "        <td>Doe</td>\n",
    "        <td>123 Real Street</td>\n",
    "        <td>25</td>\n",
    "        <td>£28000</td>\n",
    "    </tr>\n",
    "    <tr>\n",
    "        <td>Jane</td>\n",
    "        <td>Smith</td>\n",
    "        <td>789 Fake Road</td>\n",
    "        <td>29</td>\n",
    "        <td>£32000</td>\n",
    "    </tr>\n",
    "    <tr>\n",
    "        <td>Jane</td>\n",
    "        <td>Smith</td>\n",
    "        <td>789 Fake Road</td>\n",
    "        <td>29</td>\n",
    "        <td>£32000</td>\n",
    "    </tr>\n",
    "    <tr>\n",
    "        <td>Mark</td>\n",
    "        <td>Smith</td>\n",
    "        <td>789 Fake Road</td>\n",
    "        <td>31</td>\n",
    "        <td>£32000</td>\n",
    "    </tr>\n",
    "</table>\n",
    "\n",
    "In the above example, we can see that Jane Smith has two entries directly duplicated. However, in some cases, we might see extremely similar entries:\n",
    "\n",
    "<table>\n",
    "    <tr>\n",
    "        <td><b>first_name</b></td>\n",
    "        <td><b>last_name</b></td>\n",
    "        <td><b>address</b></td>\n",
    "        <td><b>age</b></td>\n",
    "        <td><b>income</b></td>\n",
    "    </tr>\n",
    "    <tr>\n",
    "        <td>John</td>\n",
    "        <td>Doe</td>\n",
    "        <td>123 Real Street</td>\n",
    "        <td>25</td>\n",
    "        <td>£28000</td>\n",
    "    </tr>\n",
    "    <tr>\n",
    "        <td>Jane</td>\n",
    "        <td>Smith</td>\n",
    "        <td>789 Fake Road</td>\n",
    "        <td><b>28</b></td>\n",
    "        <td>£32000</td>\n",
    "    </tr>\n",
    "    <tr>\n",
    "        <td>Jane</td>\n",
    "        <td>Smith</td>\n",
    "        <td>789 Fake Road</td>\n",
    "        <td>29</td>\n",
    "        <td>£32000</td>\n",
    "    </tr>\n",
    "    <tr>\n",
    "        <td>Mark</td>\n",
    "        <td>Smith</td>\n",
    "        <td>789 Fake Road</td>\n",
    "        <td>31</td>\n",
    "        <td>£32000</td>\n",
    "    </tr>\n",
    "</table>\n",
    "\n",
    "(The age difference between both Jane Smith's). This type of duplicate error is most likely due to a data entry issue or a resubmission of whatever form Jane had submitted - which was entered into the database without removing her old entry. \n",
    "\n",
    "More often than not though, duplicate data arises from either bugs/design patterns in data pipelines, or most commonly, due to database joins and data consolidation from various datasets/databases, which may retain the duplicate values.\n",
    "\n",
    "Pandas provides us with a [`.duplicated()`](https://pandas.pydata.org/pandas-docs/stable/reference/api/pandas.DataFrame.duplicated.html) method. Let's use this over our dataframe to see what it returns"
   ],
   "metadata": {}
  },
  {
   "cell_type": "code",
   "execution_count": null,
   "source": [
    "flights_df.duplicated()"
   ],
   "outputs": [],
   "metadata": {}
  },
  {
   "cell_type": "markdown",
   "source": [
    "Note that we can `.sum()` over boolean values. Basically, False's are interpreted as 0s and True's as 1. So by summing over the dataframe, we can get the total number of duplicate values! "
   ],
   "metadata": {}
  },
  {
   "cell_type": "code",
   "execution_count": null,
   "source": [
    "flights_df.duplicated().sum()"
   ],
   "outputs": [],
   "metadata": {}
  },
  {
   "cell_type": "markdown",
   "source": [
    "No duplicate values!! This is good right? Well... not necessarily. Remind yourself of the second Jane Smith example above. The duplicated method would not have returned true because the whole row wasn't an exact duplicate. To tackle this issue, the `.duplicated()` method takes in two arguments: `subset` and `keep`. For the subset argument, provide a list of column names we want to check duplicates over, and the keep argument takes on 1 of 3 values: `first`, `last`, or `False`. From the documentation:\n",
    "- `first` : Mark duplicates as True except for the first occurrence.\n",
    "- `last` : Mark duplicates as True except for the last occurrence.\n",
    "- `False` : Mark all duplicates as True.\n",
    "\n",
    "In many cases, picking the subset is more of an art form than a science. Your intuition is going to be king."
   ],
   "metadata": {}
  },
  {
   "cell_type": "code",
   "execution_count": null,
   "source": [
    "## Find the duplicates on the flights dataframe over the following columns with keep = False:\n",
    " # \"ORIGAIRPORTNAME\", \"DESTAIRPORTNAME\", \"AIRLINECODE\", \"FLIGHTDATE\", \"CRSDEPTIME\", \"DEPTIME\", \"ARRTIME\"\n",
    " # Assign this to the variable 'duplicates'\n",
    " # Why did I choose these column names? Would you have chosen others?\n",
    "\n",
    "    \n",
    "# Using df[duplicates], we are returned the data points where duplicates exist.\n",
    "## Return the duplicates for the flights dataframe\n",
    "\n"
   ],
   "outputs": [],
   "metadata": {}
  },
  {
   "cell_type": "markdown",
   "source": [
    "As a secondary observation, we see that `TAILNUM` also takes on a value of `UNKNOW` for missing values. We'll make a note of this so we can deal with it later.\n",
    "\n",
    "We can use the [`.sort_values()`](https://pandas.pydata.org/pandas-docs/stable/reference/api/pandas.DataFrame.sort_values.html) method to sort our dataframe. Read the documentation and use this method to sort the dataframe on a column name that you think is appropiate (one that allows you to easily verify whether the entries returned are valid duplicates). "
   ],
   "metadata": {}
  },
  {
   "cell_type": "code",
   "execution_count": null,
   "source": [
    "## Sort the duplicated values by an appropiate index\n",
    "\n"
   ],
   "outputs": [],
   "metadata": {}
  },
  {
   "cell_type": "code",
   "execution_count": null,
   "source": [
    "flights_df[\"CRSARRTIME\"].isna().sum()"
   ],
   "outputs": [],
   "metadata": {
    "scrolled": false
   }
  },
  {
   "cell_type": "markdown",
   "source": [
    "## Dealing with duplicate values\r\n",
    "\r\n",
    "So.. how do we deal with duplicate values? Well, we only need one entry - not both - so we have one of two options:\r\n",
    "1. Average over duplicate values where possible\r\n",
    "2. Drop one of the duplicated rows (or many in the case of one entry having multiple duplicates)\r\n",
    "\r\n",
    "\r\n",
    "### Averaging\r\n",
    "\r\n",
    "Averaging over duplicate values can only really be performed on datatypes which make sense. In the above table, the first two entries have valid times that we can average over. In general, the way we average is by grouping on relevant columns (via `.groupby()`), and chaining this with the `.agg()` function. In this case, we want to group on our subset of columns apart from the columns of interest (i.e. to times). Our argument to `.agg()` is a dictionary with key value pairs of column names and the aggregation function we want to apply over them (e.g. sum, difference, mean etc).\r\n"
   ],
   "metadata": {}
  },
  {
   "cell_type": "code",
   "execution_count": null,
   "source": [
    "summaries = {\"CRSARRTIME\": \"mean\", \"ARRTIME\": \"mean\", \"ARRDELAY\": \"mean\", \"CRSELAPSEDTIME\": \"mean\", \"ACTUALELAPSEDTIME\": \"mean\"}\n",
    "\n",
    "grouped_duplicates = flights_df[duplicates].groupby([\"FLIGHTDATE\", \"AIRLINECODE\", \"ORIGAIRPORTNAME\", \"DESTAIRPORTNAME\"])\n",
    "grouped_duplicates_min_transactionid = grouped_duplicates[\"TRANSACTIONID\"].min().reset_index()\n",
    "\n",
    "f_df_duplicates = pd.merge(\n",
    "    grouped_duplicates_min_transactionid,\n",
    "    grouped_duplicates.agg(summaries).reset_index(),\n",
    "    how=\"inner\"\n",
    ").sort_values(\"TRANSACTIONID\")\n",
    "\n",
    "f_df_duplicates\n"
   ],
   "outputs": [],
   "metadata": {
    "scrolled": false,
    "tags": []
   }
  },
  {
   "cell_type": "code",
   "execution_count": null,
   "source": [
    "# Why are there so many new NaN's in the TRANSACTIONID field now?\n",
    "## How should we get rid of them?\n",
    "\n",
    "\n",
    "## Re-encode TRANSACTIONID to int64\n",
    "\n"
   ],
   "outputs": [],
   "metadata": {}
  },
  {
   "cell_type": "code",
   "execution_count": null,
   "source": [
    "# The .update() method allows us to update records in one dataframe from values in an other\n",
    "# Some way of 'linking' which records to overwrite/update is needed if we do not want to use the default dataframe index\n",
    "## So, using the .set_index() method, set our flights_df and f_df_duplicates new index to a unique indentifer key they both share\n",
    "\n",
    "\n",
    "# Now we can update the flights_df dataframe with the new dataframe\n",
    "\n",
    "\n",
    "## And finally, we may optionally reset the index to obtain the default dataframe indexing"
   ],
   "outputs": [],
   "metadata": {
    "tags": []
   }
  },
  {
   "cell_type": "code",
   "execution_count": null,
   "source": [
    "flights_df[flights_df[\"TRANSACTIONID\"]==1974100]"
   ],
   "outputs": [],
   "metadata": {}
  },
  {
   "cell_type": "markdown",
   "source": [
    "##### Dropping duplicates\n",
    "\n",
    "Regarding dropping duplicates, Pandas provides us with a `.drop_duplicates()` method which takes three arguments:\n",
    "1. `subset`\n",
    "2. `keep`\n",
    "3. `inplace` - a boolean value of whether we want to perform the operation inplace or not"
   ],
   "metadata": {}
  },
  {
   "cell_type": "code",
   "execution_count": null,
   "source": [
    "subset = [\"ORIGAIRPORTNAME\", \"DESTAIRPORTNAME\", \"AIRLINECODE\", \"FLIGHTDATE\", \"CRSDEPTIME\", \"DEPTIME\", \"ARRTIME\"]\n",
    "## Using inplace = True, drop the duplicates. Think about what value we should provide to the keep argument\n",
    "\n"
   ],
   "outputs": [],
   "metadata": {}
  },
  {
   "cell_type": "code",
   "execution_count": null,
   "source": [
    "flights_df[duplicates]"
   ],
   "outputs": [],
   "metadata": {
    "scrolled": false
   }
  },
  {
   "cell_type": "markdown",
   "source": [
    "## Categorical data\n",
    "\n",
    "We touched on categorical data earlier on in this notebook (with categories), but here we take a more ridigly define the concept. Categorical data variables take on their value from a predefined set of categories. We saw the example above with AIRLINE codes.\n",
    "\n",
    "Would you say the following variables categorical or not?\n",
    "- TAILNUM\n",
    "- FLIGHTNUM\n",
    "- ORIGINAIRPORTCODE\n",
    "- ORIGAIRPORTNAME\n",
    "- CANCELLED\n",
    "\n",
    "What about the columns in the following table?\n",
    "\n",
    "<table>\n",
    "    <tr>\n",
    "        <td><b>First Name</b></td>\n",
    "        <td><b>Last Name</b></td>\n",
    "        <td><b>Age</b></td>\n",
    "        <td><b>Address</b></td>\n",
    "        <td><b>District Postcode</b></td>\n",
    "        <td><b>Full Postcode</b></td>\n",
    "        <td><b>Married</b><td>\n",
    "    </tr>\n",
    "    <tr>\n",
    "        <td>John</td>\n",
    "        <td>Doe</td>\n",
    "        <td>31</td>\n",
    "        <td>123 Fake Street, Realtown</td>\n",
    "        <td>RT1</td>\n",
    "        <td>RT1 3NV</td>\n",
    "        <td>True</td>\n",
    "    </tr>\n",
    "    <tr>\n",
    "        <td>Diane</td>\n",
    "        <td>Smith</td>\n",
    "        <td>31</td>\n",
    "        <td>42 World Road, Realtown</td>\n",
    "        <td>RT2</td>\n",
    "        <td>RT2 7XU</td>\n",
    "        <td>False</td>\n",
    "    </tr>\n",
    "    <tr>\n",
    "        <td>Kate</td>\n",
    "        <td>Doe</td>\n",
    "        <td>29</td>\n",
    "        <td>123 Fake Street, Realtown</td>\n",
    "        <td>RT1</td>\n",
    "        <td>RT1 3NV</td>\n",
    "        <td>False</td>\n",
    "    </tr>\n",
    "    <tr>\n",
    "        <td>Charlie</td>\n",
    "        <td>Doe</td>\n",
    "        <td>33</td>\n",
    "        <td>789 Real Road, Fakecity</td>\n",
    "        <td>FC2</td>\n",
    "        <td>FC2 9ER</td>\n",
    "        <td>True</td>        \n",
    "    </tr>    \n",
    "</table>\n",
    "\n",
    "Categorical data can only take on one of a finite set of values and it is impossible for them to go beyond these predefined categories. However, during the data collection process, noise in our data could occur (e.g. if our cateogorical data was collected via a free entry text box).\n",
    "\n",
    "There are a couple of ways to deal with inconsistent categories:\n",
    "1. Dropping data\n",
    "2. Remapping the categories\n",
    "3. Inferring the categories\n",
    "\n",
    "### Dropping Data\n",
    "\n",
    "The first approach we'll look at membership constraints over is the `ORIGINSTATENAME` variable. Dropping data is required when we have a value which in our entry isn't (conceptually) in the predinfed set of categories. We'll start by returning all the unique values in the variable. "
   ],
   "metadata": {}
  },
  {
   "cell_type": "code",
   "execution_count": null,
   "source": [
    "## Construct a set of the unique values in ORIGINSTATENAME\n"
   ],
   "outputs": [],
   "metadata": {}
  },
  {
   "cell_type": "markdown",
   "source": [
    "Now let's say we received some new entries which had statenames not present in that predefined set of categories (for example, \"Fakestate\"). "
   ],
   "metadata": {}
  },
  {
   "cell_type": "code",
   "execution_count": null,
   "source": [
    "## using the .at() or .iat() methods on flights_df, modify one of the rows \n",
    "## in our table to have its ORIGINSTATENAME as Fakestate\n",
    "# https://pandas.pydata.org/pandas-docs/stable/reference/api/pandas.DataFrame.at.html\n"
   ],
   "outputs": [],
   "metadata": {}
  },
  {
   "cell_type": "code",
   "execution_count": null,
   "source": [
    "# Displays the unique entries in ORIGINSTATENAME in our modified dataframe\n",
    "flights_df[\"ORIGINSTATENAME\"].unique()\n",
    "# OR set(flights_df[\"ORIGINSTATENAME\"])"
   ],
   "outputs": [],
   "metadata": {}
  },
  {
   "cell_type": "code",
   "execution_count": null,
   "source": [
    "## Using set operations, find the difference between the origin states in our dataframe and our predefined list  \n"
   ],
   "outputs": [],
   "metadata": {}
  },
  {
   "cell_type": "code",
   "execution_count": null,
   "source": [
    "# This .isin method returns all rows from the dataframe where the Series meets the condition its passed\n",
    "inconsistent_rows = flights_df[\"ORIGINSTATENAME\"].isin(inconsistent_categories)\n",
    "flights_df[inconsistent_rows]"
   ],
   "outputs": [],
   "metadata": {}
  },
  {
   "cell_type": "code",
   "execution_count": null,
   "source": [
    "# Nifty trick we can use to drop rows\n",
    "# What do you think ~ means?\n",
    "flights_df = flights_df[~inconsistent_rows]"
   ],
   "outputs": [],
   "metadata": {}
  },
  {
   "cell_type": "markdown",
   "source": [
    "### Remapping Categories\n",
    "\n",
    "What we saw above was data that was not present in the predefined set of categories. However, we may also come across some other type of category data issues which are better solved by remapping categories than dropping data. Appropiate places to perform this remapping would be when:\n",
    "1. **Inconsistency in values**: `married`, `not married`, `unmarried`, ` Maried` <br>\n",
    " 1. Be careful of trailing white space too!\n",
    "2. **Converting data to categories or too many categories**: Let's say we had a household income column in our dataframe. \n",
    " 1. We could change this type of data to be categorical by grouping the income (e.g. `0 - 20k`, `20k - 40k`, `40k - 60k`, `60k +` etc).\n",
    " 2. We could also reduce this further to `low_class`, `middle_class`, `upper_class`\n",
    " \n",
    "Let's tackle these in order. In our flights dataframe, the columns `CANCELLED` and `DIVERTED` both take on inconsistent values. Perhaps the safest option is to run `.value_counts()` on one of these columns (`.value_counts()` on runs on type `Series`)"
   ],
   "metadata": {}
  },
  {
   "cell_type": "code",
   "execution_count": null,
   "source": [
    "flights_df[\"CANCELLED\"].value_counts()"
   ],
   "outputs": [],
   "metadata": {}
  },
  {
   "cell_type": "markdown",
   "source": [
    "Great! So we see that our Falsy values can take on one of three values, and the Truthy values are similar too. We can arbitrarily whichever ones of these we want to use moving forward. For explicitness, let's choose False and True respectively."
   ],
   "metadata": {}
  },
  {
   "cell_type": "code",
   "execution_count": null,
   "source": [
    "## Use the replace method: https://pandas.pydata.org/pandas-docs/stable/reference/api/pandas.Series.replace.html\n",
    "## To replace 0, F, 1 and T to their relevant values for the CANCELLED column\n"
   ],
   "outputs": [],
   "metadata": {}
  },
  {
   "cell_type": "code",
   "execution_count": null,
   "source": [
    "flights_df[\"DIVERTED\"].value_counts()"
   ],
   "outputs": [],
   "metadata": {}
  },
  {
   "cell_type": "code",
   "execution_count": null,
   "source": [
    "# We can alternatively use a dictionary to \"reduce\" our categories.\n",
    "mapping = {\"F\": \"False\", \"0\": \"False\", \"1\": \"True\", \"T\": \"True\"}\n",
    "flights_df[\"DIVERTED\"] = flights_df[\"DIVERTED\"].replace(mapping)\n",
    "flights_df[\"DIVERTED\"].value_counts()"
   ],
   "outputs": [],
   "metadata": {}
  },
  {
   "cell_type": "markdown",
   "source": [
    "As previously mentioned, another situation in which we may want to remap categories is when we want to reduce the number of values in a column. In our case, let's say a flight company would like to categorise the flights based on how far they've travel. So, anything between 0 and 1000 miles is `short`, between 1000 and 2500 is `medium` and 2500+ is `long`.\n",
    "\n",
    "Here, we can use the [`.cut`](https://pandas.pydata.org/pandas-docs/stable/reference/api/pandas.cut.html) method to segment our data. We will provide three argments to the function:\n",
    "1. The `Series` we want to segment\n",
    "2. The bins - that is, a list of ranges we'll be wanting to segment against\n",
    "3. The labels - that is, a list of labels we want to assign to each of our bins"
   ],
   "metadata": {}
  },
  {
   "cell_type": "code",
   "execution_count": null,
   "source": [
    "import numpy as np\n",
    "\n",
    "bins = [0, 1000, 2500, np.inf]\n",
    "labels = [\"short\", \"medium\", \"long\"]\n",
    "flights_df[\"DISTANCE_CATEGORY\"] = pd.cut(flights_df[\"DISTANCE\"], bins=bins, labels=labels)\n",
    "\n",
    "flights_df[[\"DISTANCE\", \"DISTANCE_CATEGORY\"]]"
   ],
   "outputs": [],
   "metadata": {}
  },
  {
   "cell_type": "code",
   "execution_count": null,
   "source": [
    "flights_df[flights_df[\"DISTANCE_CATEGORY\"] == \"long\"]"
   ],
   "outputs": [],
   "metadata": {
    "scrolled": false
   }
  },
  {
   "cell_type": "markdown",
   "source": [
    "### Dealing with Datetimes\n",
    "\n",
    "One common issue you're going to come across is dealing with dates and datetimes (simply a date and a time). Why? Because there are many ways that we can format a date, such as `DD/MM/YYYY`, `MM/DD/YY`, `Xth MONTH YEAR` etc. In our dataframe above, our dates are actually formatted as just one number. Pandas provides us with a useful helper for constructing datetimes - that is, with the [`.to_datetime()`](https://pandas.pydata.org/pandas-docs/stable/reference/api/pandas.to_datetime.html) method.\n",
    "\n",
    "Before we look into this, it's valuable to quickly introduce how dates are typically stored in computers. Typically, dates are calculated against the number of seconds elapsed since **1st January 1970**. When we want to, let's say, find the difference in time between 3/2/2013 16:00 and 21/1/2013 09:00, the program performs its operations on the **Epoch/Unix/POSIX time** for those values, and we can subsequently code something up to provide us the value back back in a format we want (e.g. 13 days, 7 hours). Speaking with numbers:\n",
    "- **3/2/2013 16:00** = 1,359,907,200\n",
    "- **21/1/2013 09:00** = 1,358,758,800\n",
    "\n",
    "Difference in dates = 1,359,907,200 - 1,358,758,800 = 1,148,400 seconds\n",
    "\n",
    "`format(1148400) = 13 days, 7 hours`\n",
    "\n",
    "Great! Ok, so to solidify how you common looking datetimes are formatted:\n",
    "<table>\n",
    "    <tr>\n",
    "        <td><b>Date</b></td>\n",
    "        <td><b>Datetime format</b></td>\n",
    "    </tr>\n",
    "    <tr>\n",
    "        <td>15th June 2020</td>\n",
    "        <td>%c</td>\n",
    "    </tr>\n",
    "    <tr>\n",
    "        <td>15/06/2020</td>\n",
    "        <td>%d/%m/%Y</td>\n",
    "    </tr>\n",
    "    <tr>\n",
    "        <td>06-15-2020</td>\n",
    "        <td>%m-%d-%Y</td>\n",
    "    </tr>\n",
    "</table>\n",
    "\n",
    "Let's use the method!!"
   ],
   "metadata": {}
  },
  {
   "cell_type": "code",
   "execution_count": null,
   "source": [
    "flights_df = pd.read_csv('flights.txt', sep='|')"
   ],
   "outputs": [],
   "metadata": {}
  },
  {
   "cell_type": "code",
   "execution_count": null,
   "source": [
    "flights_df[\"FLIGHTDATE\"]"
   ],
   "outputs": [],
   "metadata": {}
  },
  {
   "cell_type": "code",
   "execution_count": null,
   "source": [
    "pd.to_datetime(flights_df[\"FLIGHTDATE\"])"
   ],
   "outputs": [],
   "metadata": {}
  },
  {
   "cell_type": "markdown",
   "source": [
    "Uhhh... what happened there? Why are all our dates 1970-01-01 now?\n",
    "\n",
    "Well, it's because, as I mentioned, dates are internally stored as seconds (numbers). Our `FLIGHTDATE` column is also displaying the flight dates as numbers. Thus, when we run the `.to_datetime()` method, all of our dates are interpreted as POSIX time.\n",
    "\n",
    "One simple solution we can do to fix that is to explicitly specify our datetime format. Given the examples above, what do you think the date format is going to be?"
   ],
   "metadata": {}
  },
  {
   "cell_type": "code",
   "execution_count": null,
   "source": [
    "## Assign date_format\n",
    "date_format = \"%Y%m%d\"\n",
    "# date_format = \"%d-%m-%Y\"\n",
    "pd.to_datetime(flights_df[\"FLIGHTDATE\"], format=date_format)"
   ],
   "outputs": [],
   "metadata": {}
  },
  {
   "cell_type": "markdown",
   "source": [
    "Better! Cool! Ok, so this solution was quite specific to the problem we had at hand. But in the real world you may often encounter mixed formats for dates in one dataframe. For example:\n",
    "\n",
    "<table>\n",
    "    <tr>\n",
    "        <td><b>Name</b></td>\n",
    "        <td><b>Date of Birth</b></td>\n",
    "        <td><b>Age</b></td>\n",
    "    </tr>\n",
    "    <tr>\n",
    "        <td>John</td>\n",
    "        <td>01/07/1995</td>\n",
    "        <td>25</td>\n",
    "    </tr>\n",
    "    <tr>\n",
    "        <td>Jane</td>\n",
    "        <td>20-04-1992</td>\n",
    "        <td>28</td>\n",
    "    </tr>\n",
    "    <tr>\n",
    "        <td>Mark</td>\n",
    "        <td>3rd January 1990</td>\n",
    "        <td>30</td>\n",
    "    </tr>\n",
    "    </table>\n",
    "    \n",
    "`.to_datetime()` once again comes at the rescue here! In the previous code cell, we explicitly set the date format (because of the unusual nature of the way this date was stored in the dataframe) - but more generally we can use `.to_datetime()` to automatically infer the format of each individual date.\n",
    "\n",
    "```python\n",
    "# errors='coerce' means we'll return NA rows for invalid dates\n",
    "df[\"DATE\"] = pd.to_datetime(df[\"DATE\"], infer_datetime_format=True, errors='coerce') \n",
    "```"
   ],
   "metadata": {}
  },
  {
   "cell_type": "markdown",
   "source": [
    "## Challenge\n",
    "\n",
    "Modify CRSDEPTIME and CRSARRTIME to be in a datetime format. Notice that the days might tick over on to the next day... Which column can you use to help you infer whether this could be the case?"
   ],
   "metadata": {}
  },
  {
   "cell_type": "code",
   "execution_count": null,
   "source": [
    "flights_df = flights_df.convert_dtypes()\n",
    "flights_df.head()"
   ],
   "outputs": [],
   "metadata": {}
  },
  {
   "cell_type": "code",
   "execution_count": null,
   "source": [
    "## Create a new variable CRSDEPDATETIME which concatenates the FLIGHTDATE and CRSDEPTIME columns\n",
    "# If you're unsure how... try googling it\n",
    "# You'll probably also need to type convert the relevant columns\n",
    "flights_df[\"FLIGHTDATE\"] = pd.to_datetime(flights_df[\"FLIGHTDATE\"], format=\"%Y%m%d\")\n",
    "CRSDEPDATETIME = flights_df[\"FLIGHTDATE\"].astype(\"str\") + \" \" + flights_df[\"CRSDEPTIME\"].astype(\"str\")\n",
    "CRSDEPDATETIME"
   ],
   "outputs": [],
   "metadata": {}
  },
  {
   "cell_type": "code",
   "execution_count": null,
   "source": [
    "## Convert CRSDEPDATETIME to a datetime object and overwrite the CRSDEPTIME with the new series\n",
    "flights_df[\"CRSDEPTIME\"] = pd.to_datetime(CRSDEPDATETIME, infer_datetime_format=True, errors='coerce')\n",
    "flights_df.head()"
   ],
   "outputs": [],
   "metadata": {}
  },
  {
   "cell_type": "code",
   "execution_count": null,
   "source": [
    "# Now we want to convert CRSARRTIME to a datetime object.\n",
    "# What would be the issue with just doing the same trick as above and using FLIGHTDATE and appending the CRSARRTIME to it?\n",
    "# So we know that we need to keep the answer to the above question in mind when trying to construct the new datetime object\n",
    "\n",
    "# I found this stackoverflow link to guide me through how to solve my problem:\n",
    "# https://stackoverflow.com/questions/34519536/convert-integer-series-to-timedelta-in-pandas\n",
    "# What do you think I googled to find this page?\n",
    "# You may need to research the method the answer provides to find the correct arguments to pass in\n",
    "\n",
    "## Assign time_to_shift using the timedelta method\n",
    "# I imagine you will run into a type error. Take a couple of minutes to see if you can find how to resolve the issue\n",
    "# Otherwise: https://stackoverflow.com/a/21290084/3297011 should provide you with the conceptual solution\n",
    "\n",
    "time_to_shift = pd.to_timedelta(flights_df[\"CRSELAPSEDTIME\"].astype(\"float64\"), unit=\"minute\")\n",
    "\n",
    "## Assign CRSARRDATETIME to CRSDEPTIME + time_to_shift\n",
    "\n",
    "CRSARRDATETIME = flights_df[\"CRSDEPTIME\"] + time_to_shift\n",
    "CRSARRDATETIME\n"
   ],
   "outputs": [],
   "metadata": {}
  },
  {
   "cell_type": "code",
   "execution_count": null,
   "source": [
    "flights_df.tail()"
   ],
   "outputs": [],
   "metadata": {}
  },
  {
   "cell_type": "markdown",
   "source": [],
   "metadata": {}
  },
  {
   "cell_type": "markdown",
   "source": [
    "Interesting!! Take a look at these results and `CRSARRTIME` - what do you notice? Looks like CRSARRTIME has offsets here and there. Why do you think this is?\n",
    "\n",
    "It occurs because the destinations have different timezones than the departure city/state. As data scientists we have to ensure that manipulations to our data maintains its correctness and integrity.\n",
    "\n",
    "I won't overwrite the CRSARRTIME variable here but have a think about how you could correctly modify CRSARRTIME to be a datetime object. Click the arrow below to reveal the answer:\n",
    "\n",
    "<details>\n",
    "    <summary><b>> How I would modify CRSARRTIME</b></summary>\n",
    "    <ol>\n",
    "        <li>Build dictionary of US state timezone offsets. I would probably start the dictionary the 'earliest' state we have in the dataframe (e.g. if Hawai is present, then I'd use Hawaiian time (UTC-10) as the 0 offset). Every other state would have a value which is relative to the the 0 offset (e.g. New York's offset would be +5).</li>\n",
    "        <li>We know the origin and departure states, so the only thing left to do now is add the offset to the above <code>time_to_shift</code> variable we calculated. This seems trivial. We take the difference in offsets between the origin state and the destination state and add it to <code>time_to_shift</code>.</li>\n",
    "        <li>Use <code>time_to_shift</code> as above!</li>\n",
    "    </ol>\n",
    "</details>"
   ],
   "metadata": {}
  },
  {
   "cell_type": "markdown",
   "source": [
    "## Cross Field Validation\r\n",
    "\r\n",
    "What does it meant to check the integrity of our data? Essentially, we need to be aware that a column of data we're seeing is consistent based on some other columns of data. We half handedly recognised and discovered an example of where we learnt a fact about one of the variables during the previous exercise. This is what **cross field validation** investigates. Before expanding on some of the cross field checks on this dataset, I will provide a slightly more trivial example to demonstrate where not performing such checks could skew analysis:\r\n",
    "\r\n",
    "The dummy table below shows entries of some student finance undergraduate (U.G) and postgraduate (P.G) loan holders. The dataset consists of a loan holder's name, date of birth (D.O.B), current age (or deceased age if relevant), whether they are deceased or not, their U.G and P.G loan amounts, and the total amount that they owe - which should be the summation of the previous two fields. In the table below, I have italicised the questionable fields.\r\n",
    "<table>\r\n",
    "    <tr>\r\n",
    "        <td><b>Name</b></td>\r\n",
    "        <td><b>D.O.B</b></td>\r\n",
    "        <td><b>Age</b></td>\r\n",
    "        <td><b>Deceased</b></td>\r\n",
    "        <td><b>U.G Loan (£)</b></td>\r\n",
    "        <td><b>P.G Loan (£)</b></td>\r\n",
    "        <td><b>Total Loan (£)</b></td>\r\n",
    "    </tr>\r\n",
    "    <tr>\r\n",
    "        <td>Idaline</td>\r\n",
    "        <td>1971-04-27</td>\r\n",
    "        <td>49</td>\r\n",
    "        <td>F</td>\r\n",
    "        <td>24100</td>\r\n",
    "        <td>11900</td>\r\n",
    "        <td>36000</td>\r\n",
    "    </tr>\r\n",
    "    <tr>\r\n",
    "        <td>Freddie</td>\r\n",
    "        <td>1962-12-27</td>\r\n",
    "        <td>57</td>\r\n",
    "        <td>F</td>\r\n",
    "        <td>26600</td>\r\n",
    "        <td>12600</td>\r\n",
    "        <td>39200</td>\r\n",
    "    </tr>\r\n",
    "    <tr>\r\n",
    "        <td>Debee</td>\r\n",
    "        <td>1970-11-19</td>\r\n",
    "        <td>49</td>\r\n",
    "        <td>F</td>\r\n",
    "        <td>32400</td>\r\n",
    "        <td>97000</td>\r\n",
    "        <td><i>42100</i></td>\r\n",
    "    </tr>\r\n",
    "    <tr>\r\n",
    "        <td>Joyann</td>\r\n",
    "        <td>1957-01-24</td>\r\n",
    "        <td><i>41</i></td>\r\n",
    "        <td>T</td>\r\n",
    "        <td>24400</td>\r\n",
    "        <td>11500</td>\r\n",
    "        <td>35900</td>\r\n",
    "    </tr>\r\n",
    "    <tr>\r\n",
    "        <td>Ajay</td>\r\n",
    "        <td>1960-05-12</td>\r\n",
    "        <td><i>50</i></td>\r\n",
    "        <td>F</td>\r\n",
    "        <td>25500</td>\r\n",
    "        <td>18800</td>\r\n",
    "        <td>44300</td>\r\n",
    "    </tr>\r\n",
    "    <tr>\r\n",
    "        <td>Emelia</td>\r\n",
    "        <td>1957-11-23</td>\r\n",
    "        <td><i>57</i></td>\r\n",
    "        <td>T</td>\r\n",
    "        <td>34000</td>\r\n",
    "        <td>17500</td>\r\n",
    "        <td><i>0</i></td>\r\n",
    "    </tr>\r\n",
    "            \r\n",
    "</table>"
   ],
   "metadata": {}
  },
  {
   "cell_type": "code",
   "execution_count": null,
   "source": [
    "html_table = \"\"\"\n",
    "<table>\n",
    "    <tr>\n",
    "        <td><b>Name</b></td>\n",
    "        <td><b>D.O.B</b></td>\n",
    "        <td><b>Age</b></td>\n",
    "        <td><b>Deceased</b></td>\n",
    "        <td><b>U.G Loan (£)</b></td>\n",
    "        <td><b>P.G Loan (£)</b></td>\n",
    "        <td><b>Total Loan (£)</b></td>\n",
    "    </tr>\n",
    "    <tr>\n",
    "        <td>Idaline</td>\n",
    "        <td>19710427</td>\n",
    "        <td>50</td>\n",
    "        <td>F</td>\n",
    "        <td>24100</td>\n",
    "        <td>11900</td>\n",
    "        <td>36000</td>\n",
    "    </tr>\n",
    "    <tr>\n",
    "        <td>Freddie</td>\n",
    "        <td>19621227</td>\n",
    "        <td>58</td>\n",
    "        <td>F</td>\n",
    "        <td>26600</td>\n",
    "        <td>12600</td>\n",
    "        <td>39200</td>\n",
    "    </tr>\n",
    "    <tr>\n",
    "        <td>Debee</td>\n",
    "        <td>19701119</td>\n",
    "        <td>49</td>\n",
    "        <td>F</td>\n",
    "        <td>32400</td>\n",
    "        <td>97000</td>\n",
    "        <td><i>42100</i></td>\n",
    "    </tr>\n",
    "    <tr>\n",
    "        <td>Joyann</td>\n",
    "        <td>19570124</td>\n",
    "        <td><i>41</i></td>\n",
    "        <td>T</td>\n",
    "        <td>24400</td>\n",
    "        <td>11500</td>\n",
    "        <td>35900</td>\n",
    "    </tr>\n",
    "    <tr>\n",
    "        <td>Ajay</td>\n",
    "        <td>19600512</td>\n",
    "        <td><i>50</i></td>\n",
    "        <td>F</td>\n",
    "        <td>25500</td>\n",
    "        <td>18800</td>\n",
    "        <td>44300</td>\n",
    "    </tr>\n",
    "    <tr>\n",
    "        <td>Emelia</td>\n",
    "        <td>19571123</td>\n",
    "        <td><i>57</i></td>\n",
    "        <td>T</td>\n",
    "        <td>34000</td>\n",
    "        <td>17500</td>\n",
    "        <td><i>0</i></td>\n",
    "    </tr>\n",
    "            \n",
    "</table>\n",
    "\"\"\"\n",
    "\n",
    "html_df = pd.read_html(html_table, header=0)[0]\n",
    "html_df"
   ],
   "outputs": [],
   "metadata": {}
  },
  {
   "cell_type": "markdown",
   "source": [
    "Let's work on the **Age** variable first. According to our data documentation, the age in the field should reflect the current age of the loan holders. The exception to this is when the loan holder is deceased, in which case the age should contain the loan holder's age at the time of their passing. Let's first work out which rows break this condition."
   ],
   "metadata": {}
  },
  {
   "cell_type": "code",
   "execution_count": null,
   "source": [
    "# Before we attempt this, we'll rename the rows to something that's easier to work with\n",
    "html_df.columns = [\"name\", \"dob\", \"age\", \"deceased\", \"ug_loan\", \"pg_loan\", \"total_loan\"]\n",
    "html_df.info()"
   ],
   "outputs": [],
   "metadata": {}
  },
  {
   "cell_type": "code",
   "execution_count": null,
   "source": [
    "## Convert 'dob' into a date object\n",
    "html_df['dob'] = pd.to_datetime(html_df['dob'], format=\"%Y%m%d\")\n",
    "html_df"
   ],
   "outputs": [],
   "metadata": {}
  },
  {
   "cell_type": "code",
   "execution_count": null,
   "source": [
    "html_df[\"now_date\"] "
   ],
   "outputs": [],
   "metadata": {}
  },
  {
   "cell_type": "code",
   "execution_count": null,
   "source": [
    "pd.datetime.now()"
   ],
   "outputs": [],
   "metadata": {}
  },
  {
   "cell_type": "code",
   "execution_count": null,
   "source": [
    "# Creates a new column 'now_date' populated with the now datetime\n",
    "html_df[\"now_date\"] = pd.Timestamp(pd.datetime.now())\n",
    "\n",
    "## Calculate the difference between the 'dob' and 'now_date' and return the value as years\n",
    "now_date_dob_difference = html_df[\"now_date\"] - html_df['dob']\n"
   ],
   "outputs": [],
   "metadata": {}
  },
  {
   "cell_type": "code",
   "execution_count": null,
   "source": [
    "now_date_dob_difference"
   ],
   "outputs": [],
   "metadata": {}
  },
  {
   "cell_type": "code",
   "execution_count": null,
   "source": [
    "np.timedelta64(1, 'Y')"
   ],
   "outputs": [],
   "metadata": {}
  },
  {
   "cell_type": "code",
   "execution_count": null,
   "source": [
    "import numpy as np\n",
    "# This line changes the the timedelta objects to a floating point year, which we then convert to an int\n",
    "now_date_dob_difference = (now_date_dob_difference / np.timedelta64(1, 'Y')).astype(\"int64\")\n",
    "now_date_dob_difference"
   ],
   "outputs": [],
   "metadata": {}
  },
  {
   "cell_type": "code",
   "execution_count": null,
   "source": [
    "now_date_dob_difference"
   ],
   "outputs": [],
   "metadata": {}
  },
  {
   "cell_type": "code",
   "execution_count": null,
   "source": [
    "# By eye, we can see which ages do not match the dataframe we showed previously. \n",
    "# For generality however, let's code this up with pandas logic.\n",
    "## Return rows where 'now_date_dob_difference' is different to the dataframe's age variable\n",
    "is_diff = now_date_dob_difference != html_df[\"age\"]"
   ],
   "outputs": [],
   "metadata": {}
  },
  {
   "cell_type": "code",
   "execution_count": null,
   "source": [
    "is_diff"
   ],
   "outputs": [],
   "metadata": {}
  },
  {
   "cell_type": "code",
   "execution_count": null,
   "source": [
    "html_df[is_diff]"
   ],
   "outputs": [],
   "metadata": {}
  },
  {
   "cell_type": "markdown",
   "source": [
    "Let's take a look into why the above cell's were returned. As mentioned previously, if a loan holder is deceased, then their age should reflect that. So this means that Joyann's and Emelia's age is actually correct. Using boolean logic, let's filter out these rows to return only the rows which have mathematically incorrect ages."
   ],
   "metadata": {}
  },
  {
   "cell_type": "code",
   "execution_count": null,
   "source": [
    "## Filter out the relevant loan holders using boolean logic (hint: &)\n",
    "incorrect_age_rows = html_df[(html_df[\"age\"] != now_date_dob_difference) & (html_df[\"deceased\"] == \"F\")]\n",
    "incorrect_age_rows"
   ],
   "outputs": [],
   "metadata": {}
  },
  {
   "cell_type": "code",
   "execution_count": null,
   "source": [
    "## Update incorrect_age_rows dataframe with the corrected ages\n",
    "incorrect_age_rows[\"age\"] = ((incorrect_age_rows[\"now_date\"] - incorrect_age_rows[\"dob\"]) / np.timedelta64(1, 'Y')).astype(\"int64\")\n",
    "incorrect_age_rows"
   ],
   "outputs": [],
   "metadata": {}
  },
  {
   "cell_type": "code",
   "execution_count": null,
   "source": [
    "## Now update the relevant entries html_df with the age column from the incorrect_age_rows dataframe\r\n",
    "html_df.update(incorrect_age_rows[\"age\"])\r\n",
    "html_df"
   ],
   "outputs": [],
   "metadata": {}
  },
  {
   "cell_type": "code",
   "execution_count": null,
   "source": [
    "## Convert age back to an int\n",
    "html_df[\"age\"] = html_df[\"age\"].astype(\"int64\")\n",
    "## Drop the now_date column\n",
    "html_df.drop([\"now_date\"], axis=1, inplace=True)\n",
    "html_df"
   ],
   "outputs": [],
   "metadata": {}
  },
  {
   "cell_type": "markdown",
   "source": [
    "Let's work on the loan amounts now. Return all the columns where `ug_loan` + `pg_loan` is not equal to `total_loan`"
   ],
   "metadata": {}
  },
  {
   "cell_type": "code",
   "execution_count": null,
   "source": [
    "## Subset `ug_loan` and `pg_loan` from our dataframe, and then sum along the column axis\n",
    "sum_loans = html_df[[\"ug_loan\", \"pg_loan\"]].sum(axis=1)\n",
    "html_df['computed'] = sum_loans"
   ],
   "outputs": [],
   "metadata": {}
  },
  {
   "cell_type": "code",
   "execution_count": null,
   "source": [
    "# html_df[\"pg_loan\"].describe()\n",
    "html_df[html_df[\"pg_loan\"] == html_df[\"pg_loan\"].max()]"
   ],
   "outputs": [],
   "metadata": {}
  },
  {
   "cell_type": "code",
   "execution_count": null,
   "source": [
    "html_df.drop(2, axis=0)"
   ],
   "outputs": [],
   "metadata": {}
  },
  {
   "cell_type": "code",
   "execution_count": null,
   "source": [
    "## Return the rows which have incorrect sum values\r\n",
    "incorrect_loan_rows = html_df[html_df[\"total_loan\"] != sum_loans]\r\n",
    "incorrect_loan_rows"
   ],
   "outputs": [],
   "metadata": {}
  },
  {
   "cell_type": "markdown",
   "source": [
    "### How should we deal with fields which fail validation?\n",
    "\n",
    "Here we see two rows which don't have the correct total loan amounts. Analysing each one individually, we see that the first row's data has most likely had the `pg_loan` value entered incorrectly (£97,000 for a postgraduate loan). In the second, for some reason the `total_loan` value has not been calculated. A naive strategy could be to overwrite the whole total loan amounts with the summation of `ug_loan` and `pg_loan`. This fixes the types of error on which the second row is returned. However there could be an underlying issue because of the first row. If we sum the `ug_loan` and `pg_loan` here, we will create an **outlier** (these will be covered in detail later). In a real dataset, it is a very real threat mistakes like these could occur which compromise the integrity of the data - issues like these can easily slip the mind so make sure you take the time to think through how your actions are going to affect your data.\n",
    "\n",
    "As I mentioned, some aspects of data science are an art - but whatever heuristic decision we make, we have to find a strong justifcation for it. In this particular case, I am going to drop the rows with the incorrect `total_loan` as this error probably occured due to a mistake in human data entry. The rows with `total_loan = 0` probably occured due to some systematic error - perhaps from from some other database where the total_loan amount wasn't present. Other checks considering, one solution we could opt for is to sum the two columns together."
   ],
   "metadata": {}
  },
  {
   "cell_type": "code",
   "execution_count": null,
   "source": [
    "## Identify the rows where total_loan is NOT 0, but is incorrect\r\n",
    "incorrect_loan_but_not_zero_rows = html_df[(html_df[\"total_loan\"] != sum_loans) & (html_df[\"total_loan\"] != 0)]\r\n",
    "print(incorrect_loan_but_not_zero_rows)\r\n",
    "\r\n",
    "## Drop these rows from the original dataframe\r\n",
    "html_df = html_df.drop(incorrect_loan_but_not_zero_rows.index)\r\n",
    "\r\n",
    "html_df"
   ],
   "outputs": [],
   "metadata": {}
  },
  {
   "cell_type": "code",
   "execution_count": null,
   "source": [
    "# Assuming that all we're happy with all the other entries in our loan holders, we can directly compute and overwrite total_loan in our dataframe\r\n",
    "## Overwrite total_loan with the sum of ug_loan and pg_loan\r\n"
   ],
   "outputs": [],
   "metadata": {}
  },
  {
   "cell_type": "markdown",
   "source": [
    "## Working with text data and strings\n",
    "\n",
    "Text data is obviously an extremely common type of data, and it can take on many forms - ranging from free unstructured text to emails, names, phone numbers etc. There are many types of problems we can encounter with text data:\n",
    "- Data inconsistency (e.g. \t+86 195 448 8582 vs 0086-195-448-8582)\n",
    "- Text violations (e.g. illegal characters, input field errors, text typos)\n",
    "- \"Structured\" typos (e.g. +86.1954.48858.2)\n",
    "\n",
    "In the example table below, we see a list of people with their names and phone numbers. As seen - most likely due to free text fields, the names and phone numbers have been entered in a variety of different formats. Our job is to standardise these fields so they're consistent throughout the dataframe:\n",
    "\n",
    "<table>\n",
    "    <tr>\n",
    "        <td><b>Name</b></td>\n",
    "        <td><b>Phone Number</b></td>\n",
    "    </tr>\n",
    "    <tr>\n",
    "        <td>Dr Darci Abela</td>\n",
    "        <td>+86-185-338-1819</td>\n",
    "    </tr>\n",
    "    <tr>\n",
    "        <td>Mr Patten St. Queintain</td>\n",
    "        <td>00865872411917</td>\n",
    "    </tr>\n",
    "    <tr>\n",
    "        <td>mr conant burden</td>\n",
    "        <td>0086-289-702-0948</td>\n",
    "    </tr>\n",
    "    <tr>\n",
    "        <td>miss marcia Dutnell</td>\n",
    "        <td>0668</td>\n",
    "    </tr>\n",
    "    <tr>\n",
    "        <td>dr Greggory lurner</td>\n",
    "        <td>+31 778 813 8432</td>\n",
    "    </tr>\n",
    "    <tr>\n",
    "        <td>MS Doe Beavan</td>\n",
    "        <td>+420-731-276-7633</td>\n",
    "    </tr>\n",
    "    <tr>\n",
    "        <td>Tamarah Delgado</td>\n",
    "        <td>+868431029051</td>\n",
    "    </tr>\n",
    "    <tr>\n",
    "        <td>Miss Arlee daborne</td>\n",
    "        <td>+33-307-220-2746</td>\n",
    "    </tr>\n",
    "    <tr>\n",
    "        <td>Ly b. Grima</td>\n",
    "        <td>+238-863-946-4232</td>\n",
    "    </tr>\n",
    "</table>\n",
    "\n",
    "I have created a small dummy csv we can work with for this task"
   ],
   "metadata": {}
  },
  {
   "cell_type": "code",
   "execution_count": null,
   "source": [
    "# np = names_phones\r\n",
    "np_df = pd.read_csv(\"../DATA/mock_names_phones.csv\", header=0, index_col=0)\r\n",
    "np_df"
   ],
   "outputs": [],
   "metadata": {}
  },
  {
   "cell_type": "markdown",
   "source": [
    "Ok - there are 4 tasks for this dataframe:\n",
    "1. Create a 'title' column which contains each individual's title (e.g. Mrs, Miss etc). This column should be standardized and categorical\n",
    "2. Split the actual name into a first name and last name column. Both columns should have a capital letter for the first letter of the name\n",
    "3. Drop the `name` row\n",
    "4. Standardise the phone numbers with the format `00XXXXXXXXX`. That is - two zeros prepended to the rest of the actual number\n",
    "\n",
    "Let's tackle these in order"
   ],
   "metadata": {}
  },
  {
   "cell_type": "code",
   "execution_count": null,
   "source": [
    "# First, we want to create a new title column which takes on the honourifics in the name column\r\n",
    "# To obtain this, we have to split the name on whitespace and take the first element from the split list\r\n",
    "example_string = \"This string will be split\"\r\n",
    "print(example_string.split())\r\n",
    "print(example_string.split()[0])"
   ],
   "outputs": [],
   "metadata": {}
  },
  {
   "cell_type": "code",
   "execution_count": null,
   "source": [
    "# To perform some string operations on string columns in pandas, we need to prepend our string function with '.str'\r\n",
    "np_df[\"name\"].str.split()\r\n"
   ],
   "outputs": [],
   "metadata": {}
  },
  {
   "cell_type": "code",
   "execution_count": null,
   "source": [
    "## Create and populate a title column.\r\n",
    "# This task can be solved in a couple of different ways.\r\n",
    "# See how many solutions you can come up with in your groups\r\n"
   ],
   "outputs": [],
   "metadata": {}
  },
  {
   "cell_type": "code",
   "execution_count": null,
   "source": [
    "# We want our title to be standardised and categorical.\r\n",
    "## Convert the column to a categorical column and return all the categories that currently exist in the column\r\n"
   ],
   "outputs": [],
   "metadata": {}
  },
  {
   "cell_type": "code",
   "execution_count": null,
   "source": [
    "# We see many different variants. Let's select a method to normalise the entries (e.g. uppercase all).\r\n",
    "## Standardise the title column\r\n"
   ],
   "outputs": [],
   "metadata": {}
  },
  {
   "cell_type": "code",
   "execution_count": null,
   "source": [
    "## In somewhat of a similar fashion to the above, create a new column for first name and one for last name.\r\n",
    "# Ensure for both new columns, the names are in lower case form, apart from the first letter which is upper cased\r\n",
    "\r\n"
   ],
   "outputs": [],
   "metadata": {}
  },
  {
   "cell_type": "code",
   "execution_count": null,
   "source": [
    "## Drop the name column\r\n"
   ],
   "outputs": [],
   "metadata": {}
  },
  {
   "cell_type": "markdown",
   "source": [
    "Great! This brings us up to the 4th part of the tasks - standardising the phone number and converting them to an int datatype. Recall how we want our phone numbers to look after: start with 00, followed by the rest of the number."
   ],
   "metadata": {}
  },
  {
   "cell_type": "code",
   "execution_count": null,
   "source": [
    "# Returns all the (unique) phone numbers so we can see the different types of issues they contain\r\n",
    "set(np_df[\"phone number\"])"
   ],
   "outputs": [],
   "metadata": {
    "scrolled": true
   }
  },
  {
   "cell_type": "markdown",
   "source": [
    "Ok, so what issues do you see?\n",
    "<details>\n",
    "    <summary><b>> Click here to see issues</b></summary>\n",
    "    <ul>\n",
    "        <li>Numbers start differently - some start with `+`, others with `00`</li>\n",
    "        <li>Some numbers have spaces between a group of numbers, others are hyphenated. Some of the numbers don't have 'groups' either</li>\n",
    "        <li>Some numbers start with a whitespace, others with a `+ `, others with a `+  `.</li>\n",
    "        <li>Some numbers are only four numbers long</li>\n",
    "    </ul>\n",
    "</details>\n",
    "\n",
    "There are a couple of ways we could go about formatting these strings into our desired output. Here I will guide you through a method where we iterate through the rows and apply a function to reassign the variable. Let's start by creating an intermediate function which takes a phone number and manipulates it to our desired output."
   ],
   "metadata": {}
  },
  {
   "cell_type": "code",
   "execution_count": null,
   "source": [
    "def standardise_phone_number(phone_number):\r\n",
    "    \r\n",
    "    ## if the first character is a \"+\", remove it.\r\n",
    "    \r\n",
    "    ## remove all whitespace from the phone number\r\n",
    "    \r\n",
    "    ## remove hyphens from the phone number\r\n",
    "    \r\n",
    "    ## if the number doesn't start with 00, prepend 00 to it beginning of the number\r\n",
    "    \r\n",
    "    ## return the phone number\r\n"
   ],
   "outputs": [],
   "metadata": {}
  },
  {
   "cell_type": "code",
   "execution_count": null,
   "source": [
    "# We'll iterate over the rows of the dataframe, and reassign the row to the standardised variant\r\n",
    "for index, row in np_df.iterrows():\r\n",
    "    \r\n",
    "    ## Call our standardisation function on the phone number for the current loop\r\n",
    "    \r\n",
    "np_df"
   ],
   "outputs": [],
   "metadata": {}
  },
  {
   "cell_type": "code",
   "execution_count": null,
   "source": [
    "# We still have some invalid numbers in our dataframe (i.e. those which were originally of length 4)\r\n",
    "## Replace all phone numbers under 10 numbers/characters long with pd.NA\r\n",
    "# Hint: The .loc method will be needed\r\n"
   ],
   "outputs": [],
   "metadata": {}
  },
  {
   "cell_type": "code",
   "execution_count": null,
   "source": [
    "# We'll be focusing on missing data in the next section, but let's count the number of rows with NA's in them and drop them too\r\n",
    "null_phone_numbers = np_df[\"phone number\"].isnull()\r\n",
    "print(\"Number of null phone numbers:\", null_phone_numbers.sum())\r\n",
    "\r\n",
    "# Drop the rows which have null phone numbers\r\n",
    "np_df = np_df.dropna(subset=[\"phone number\"])\r\n",
    "np_df"
   ],
   "outputs": [],
   "metadata": {}
  },
  {
   "cell_type": "markdown",
   "source": [
    "More complicated string manipulations can be performed via the use of **Regular Expressions**, otherwise known as [regex](https://docs.python.org/3/howto/regex.html). We won't look at regex here but it's important to know about it's power. Essentially, regex allows us to specify rules for strings that we want to match against. It has a very wide application usecase. Some examples include:\n",
    "- indentify emails in spans of text \n",
    "- validate whether a url has a correct format\n",
    "- extract only the digits from a text string\n",
    "\n",
    "When you come across tasks which non-trivially require you to clean text data, regex is the tool for the job. "
   ],
   "metadata": {}
  }
 ],
 "metadata": {
  "kernelspec": {
   "name": "python3",
   "display_name": "Python 3.9.1 64-bit ('base': conda)"
  },
  "language_info": {
   "codemirror_mode": {
    "name": "ipython",
    "version": 3
   },
   "file_extension": ".py",
   "mimetype": "text/x-python",
   "name": "python",
   "nbconvert_exporter": "python",
   "pygments_lexer": "ipython3",
   "version": "3.9.1"
  },
  "interpreter": {
   "hash": "569d6b7e9215e11aba41c6454007e5c1b78bad7df09dab765d8cf00362c40f03"
  }
 },
 "nbformat": 4,
 "nbformat_minor": 4
}